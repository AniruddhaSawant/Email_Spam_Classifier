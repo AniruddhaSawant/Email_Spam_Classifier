{
 "cells": [
  {
   "cell_type": "code",
   "execution_count": 35,
   "id": "dfbd461b",
   "metadata": {},
   "outputs": [],
   "source": [
    "import numpy as np\n",
    "import pandas as pd\n",
    "import seaborn as sns\n",
    "import matplotlib.pyplot as plt\n",
    "import pickle\n",
    "from sklearn.preprocessing import StandardScaler, MinMaxScaler, LabelEncoder, PowerTransformer\n",
    "from statsmodels.stats.outliers_influence import variance_inflation_factor\n",
    "enc = LabelEncoder()\n",
    "from sklearn.model_selection import train_test_split, GridSearchCV, cross_val_score, RandomizedSearchCV\n",
    "from sklearn.metrics import accuracy_score, classification_report, confusion_matrix, precision_score, roc_curve, roc_auc_score, f1_score\n",
    "from sklearn import metrics\n",
    "\n",
    "from sklearn.ensemble import RandomForestClassifier\n",
    "from sklearn.linear_model import LogisticRegression\n",
    "from sklearn.ensemble import GradientBoostingClassifier\n",
    "from sklearn.tree import DecisionTreeClassifier\n",
    "from sklearn.neighbors import KNeighborsClassifier\n",
    "from sklearn.svm import SVR, SVC\n",
    "\n",
    "\n",
    "import warnings \n",
    "warnings.filterwarnings('ignore')"
   ]
  },
  {
   "cell_type": "code",
   "execution_count": 42,
   "id": "f91a19cd",
   "metadata": {},
   "outputs": [],
   "source": [
    "import nltk\n",
    "import string\n",
    "from nltk.corpus import stopwords\n",
    "from nltk.tokenize import word_tokenize\n",
    "from nltk.stem import PorterStemmer, WordNetLemmatizer\n",
    "from wordcloud import WordCloud\n",
    "from sklearn.feature_extraction.text import TfidfVectorizer, CountVectorizer\n",
    "import xgboost\n",
    "import eli5\n",
    "from sklearn.naive_bayes import MultinomialNB, GaussianNB, BernoulliNB\n",
    "import joblib\n",
    "import re"
   ]
  },
  {
   "cell_type": "code",
   "execution_count": 3,
   "id": "1dadce63",
   "metadata": {},
   "outputs": [],
   "source": [
    "df = pd.read_csv('spam.csv')"
   ]
  },
  {
   "cell_type": "code",
   "execution_count": 4,
   "id": "f2b363fe",
   "metadata": {},
   "outputs": [
    {
     "data": {
      "text/html": [
       "<div>\n",
       "<style scoped>\n",
       "    .dataframe tbody tr th:only-of-type {\n",
       "        vertical-align: middle;\n",
       "    }\n",
       "\n",
       "    .dataframe tbody tr th {\n",
       "        vertical-align: top;\n",
       "    }\n",
       "\n",
       "    .dataframe thead th {\n",
       "        text-align: right;\n",
       "    }\n",
       "</style>\n",
       "<table border=\"1\" class=\"dataframe\">\n",
       "  <thead>\n",
       "    <tr style=\"text-align: right;\">\n",
       "      <th></th>\n",
       "      <th>v1</th>\n",
       "      <th>v2</th>\n",
       "      <th>Unnamed: 2</th>\n",
       "      <th>Unnamed: 3</th>\n",
       "      <th>Unnamed: 4</th>\n",
       "    </tr>\n",
       "  </thead>\n",
       "  <tbody>\n",
       "    <tr>\n",
       "      <th>0</th>\n",
       "      <td>ham</td>\n",
       "      <td>Go until jurong point, crazy.. Available only ...</td>\n",
       "      <td>NaN</td>\n",
       "      <td>NaN</td>\n",
       "      <td>NaN</td>\n",
       "    </tr>\n",
       "    <tr>\n",
       "      <th>1</th>\n",
       "      <td>ham</td>\n",
       "      <td>Ok lar... Joking wif u oni...</td>\n",
       "      <td>NaN</td>\n",
       "      <td>NaN</td>\n",
       "      <td>NaN</td>\n",
       "    </tr>\n",
       "    <tr>\n",
       "      <th>2</th>\n",
       "      <td>spam</td>\n",
       "      <td>Free entry in 2 a wkly comp to win FA Cup fina...</td>\n",
       "      <td>NaN</td>\n",
       "      <td>NaN</td>\n",
       "      <td>NaN</td>\n",
       "    </tr>\n",
       "    <tr>\n",
       "      <th>3</th>\n",
       "      <td>ham</td>\n",
       "      <td>U dun say so early hor... U c already then say...</td>\n",
       "      <td>NaN</td>\n",
       "      <td>NaN</td>\n",
       "      <td>NaN</td>\n",
       "    </tr>\n",
       "    <tr>\n",
       "      <th>4</th>\n",
       "      <td>ham</td>\n",
       "      <td>Nah I don't think he goes to usf, he lives aro...</td>\n",
       "      <td>NaN</td>\n",
       "      <td>NaN</td>\n",
       "      <td>NaN</td>\n",
       "    </tr>\n",
       "    <tr>\n",
       "      <th>...</th>\n",
       "      <td>...</td>\n",
       "      <td>...</td>\n",
       "      <td>...</td>\n",
       "      <td>...</td>\n",
       "      <td>...</td>\n",
       "    </tr>\n",
       "    <tr>\n",
       "      <th>5567</th>\n",
       "      <td>spam</td>\n",
       "      <td>This is the 2nd time we have tried 2 contact u...</td>\n",
       "      <td>NaN</td>\n",
       "      <td>NaN</td>\n",
       "      <td>NaN</td>\n",
       "    </tr>\n",
       "    <tr>\n",
       "      <th>5568</th>\n",
       "      <td>ham</td>\n",
       "      <td>Will Ì_ b going to esplanade fr home?</td>\n",
       "      <td>NaN</td>\n",
       "      <td>NaN</td>\n",
       "      <td>NaN</td>\n",
       "    </tr>\n",
       "    <tr>\n",
       "      <th>5569</th>\n",
       "      <td>ham</td>\n",
       "      <td>Pity, * was in mood for that. So...any other s...</td>\n",
       "      <td>NaN</td>\n",
       "      <td>NaN</td>\n",
       "      <td>NaN</td>\n",
       "    </tr>\n",
       "    <tr>\n",
       "      <th>5570</th>\n",
       "      <td>ham</td>\n",
       "      <td>The guy did some bitching but I acted like i'd...</td>\n",
       "      <td>NaN</td>\n",
       "      <td>NaN</td>\n",
       "      <td>NaN</td>\n",
       "    </tr>\n",
       "    <tr>\n",
       "      <th>5571</th>\n",
       "      <td>ham</td>\n",
       "      <td>Rofl. Its true to its name</td>\n",
       "      <td>NaN</td>\n",
       "      <td>NaN</td>\n",
       "      <td>NaN</td>\n",
       "    </tr>\n",
       "  </tbody>\n",
       "</table>\n",
       "<p>5572 rows × 5 columns</p>\n",
       "</div>"
      ],
      "text/plain": [
       "        v1                                                 v2 Unnamed: 2  \\\n",
       "0      ham  Go until jurong point, crazy.. Available only ...        NaN   \n",
       "1      ham                      Ok lar... Joking wif u oni...        NaN   \n",
       "2     spam  Free entry in 2 a wkly comp to win FA Cup fina...        NaN   \n",
       "3      ham  U dun say so early hor... U c already then say...        NaN   \n",
       "4      ham  Nah I don't think he goes to usf, he lives aro...        NaN   \n",
       "...    ...                                                ...        ...   \n",
       "5567  spam  This is the 2nd time we have tried 2 contact u...        NaN   \n",
       "5568   ham              Will Ì_ b going to esplanade fr home?        NaN   \n",
       "5569   ham  Pity, * was in mood for that. So...any other s...        NaN   \n",
       "5570   ham  The guy did some bitching but I acted like i'd...        NaN   \n",
       "5571   ham                         Rofl. Its true to its name        NaN   \n",
       "\n",
       "     Unnamed: 3 Unnamed: 4  \n",
       "0           NaN        NaN  \n",
       "1           NaN        NaN  \n",
       "2           NaN        NaN  \n",
       "3           NaN        NaN  \n",
       "4           NaN        NaN  \n",
       "...         ...        ...  \n",
       "5567        NaN        NaN  \n",
       "5568        NaN        NaN  \n",
       "5569        NaN        NaN  \n",
       "5570        NaN        NaN  \n",
       "5571        NaN        NaN  \n",
       "\n",
       "[5572 rows x 5 columns]"
      ]
     },
     "execution_count": 4,
     "metadata": {},
     "output_type": "execute_result"
    }
   ],
   "source": [
    "df"
   ]
  },
  {
   "cell_type": "markdown",
   "id": "c677b143",
   "metadata": {},
   "source": [
    "# Data Preprocessing"
   ]
  },
  {
   "cell_type": "code",
   "execution_count": 5,
   "id": "402a2959",
   "metadata": {},
   "outputs": [],
   "source": [
    "df = df.drop(['Unnamed: 2','Unnamed: 3','Unnamed: 4'], axis=1) # deleting this columns since those are blank"
   ]
  },
  {
   "cell_type": "code",
   "execution_count": 6,
   "id": "3d4c1d8c",
   "metadata": {},
   "outputs": [
    {
     "name": "stdout",
     "output_type": "stream",
     "text": [
      "<class 'pandas.core.frame.DataFrame'>\n",
      "RangeIndex: 5572 entries, 0 to 5571\n",
      "Data columns (total 2 columns):\n",
      " #   Column  Non-Null Count  Dtype \n",
      "---  ------  --------------  ----- \n",
      " 0   v1      5572 non-null   object\n",
      " 1   v2      5572 non-null   object\n",
      "dtypes: object(2)\n",
      "memory usage: 87.2+ KB\n"
     ]
    }
   ],
   "source": [
    "df.info()"
   ]
  },
  {
   "cell_type": "code",
   "execution_count": 7,
   "id": "08797d3b",
   "metadata": {},
   "outputs": [
    {
     "data": {
      "text/plain": [
       "v1    0\n",
       "v2    0\n",
       "dtype: int64"
      ]
     },
     "execution_count": 7,
     "metadata": {},
     "output_type": "execute_result"
    }
   ],
   "source": [
    "df.isnull().sum() # Checking Null values in the data"
   ]
  },
  {
   "cell_type": "code",
   "execution_count": 8,
   "id": "a14079d5",
   "metadata": {},
   "outputs": [
    {
     "data": {
      "text/plain": [
       "ham     4825\n",
       "spam     747\n",
       "Name: v1, dtype: int64"
      ]
     },
     "execution_count": 8,
     "metadata": {},
     "output_type": "execute_result"
    }
   ],
   "source": [
    "df['v1'].value_counts()"
   ]
  },
  {
   "cell_type": "markdown",
   "id": "4d5dd714",
   "metadata": {},
   "source": [
    "##### Data is not balanced hence we will be focusing more on precision score than test accuracy"
   ]
  },
  {
   "cell_type": "code",
   "execution_count": 9,
   "id": "a4716dd9",
   "metadata": {},
   "outputs": [],
   "source": [
    "df['v1'] = enc.fit_transform(df['v1']) #Enconding label to 0 and 1 where 0 refers to Ham and 1 refers to Spam"
   ]
  },
  {
   "cell_type": "code",
   "execution_count": 10,
   "id": "f0c186b6",
   "metadata": {},
   "outputs": [
    {
     "data": {
      "text/html": [
       "<div>\n",
       "<style scoped>\n",
       "    .dataframe tbody tr th:only-of-type {\n",
       "        vertical-align: middle;\n",
       "    }\n",
       "\n",
       "    .dataframe tbody tr th {\n",
       "        vertical-align: top;\n",
       "    }\n",
       "\n",
       "    .dataframe thead th {\n",
       "        text-align: right;\n",
       "    }\n",
       "</style>\n",
       "<table border=\"1\" class=\"dataframe\">\n",
       "  <thead>\n",
       "    <tr style=\"text-align: right;\">\n",
       "      <th></th>\n",
       "      <th>v1</th>\n",
       "      <th>v2</th>\n",
       "    </tr>\n",
       "  </thead>\n",
       "  <tbody>\n",
       "    <tr>\n",
       "      <th>0</th>\n",
       "      <td>0</td>\n",
       "      <td>Go until jurong point, crazy.. Available only ...</td>\n",
       "    </tr>\n",
       "    <tr>\n",
       "      <th>1</th>\n",
       "      <td>0</td>\n",
       "      <td>Ok lar... Joking wif u oni...</td>\n",
       "    </tr>\n",
       "    <tr>\n",
       "      <th>2</th>\n",
       "      <td>1</td>\n",
       "      <td>Free entry in 2 a wkly comp to win FA Cup fina...</td>\n",
       "    </tr>\n",
       "    <tr>\n",
       "      <th>3</th>\n",
       "      <td>0</td>\n",
       "      <td>U dun say so early hor... U c already then say...</td>\n",
       "    </tr>\n",
       "    <tr>\n",
       "      <th>4</th>\n",
       "      <td>0</td>\n",
       "      <td>Nah I don't think he goes to usf, he lives aro...</td>\n",
       "    </tr>\n",
       "    <tr>\n",
       "      <th>...</th>\n",
       "      <td>...</td>\n",
       "      <td>...</td>\n",
       "    </tr>\n",
       "    <tr>\n",
       "      <th>5567</th>\n",
       "      <td>1</td>\n",
       "      <td>This is the 2nd time we have tried 2 contact u...</td>\n",
       "    </tr>\n",
       "    <tr>\n",
       "      <th>5568</th>\n",
       "      <td>0</td>\n",
       "      <td>Will Ì_ b going to esplanade fr home?</td>\n",
       "    </tr>\n",
       "    <tr>\n",
       "      <th>5569</th>\n",
       "      <td>0</td>\n",
       "      <td>Pity, * was in mood for that. So...any other s...</td>\n",
       "    </tr>\n",
       "    <tr>\n",
       "      <th>5570</th>\n",
       "      <td>0</td>\n",
       "      <td>The guy did some bitching but I acted like i'd...</td>\n",
       "    </tr>\n",
       "    <tr>\n",
       "      <th>5571</th>\n",
       "      <td>0</td>\n",
       "      <td>Rofl. Its true to its name</td>\n",
       "    </tr>\n",
       "  </tbody>\n",
       "</table>\n",
       "<p>5572 rows × 2 columns</p>\n",
       "</div>"
      ],
      "text/plain": [
       "      v1                                                 v2\n",
       "0      0  Go until jurong point, crazy.. Available only ...\n",
       "1      0                      Ok lar... Joking wif u oni...\n",
       "2      1  Free entry in 2 a wkly comp to win FA Cup fina...\n",
       "3      0  U dun say so early hor... U c already then say...\n",
       "4      0  Nah I don't think he goes to usf, he lives aro...\n",
       "...   ..                                                ...\n",
       "5567   1  This is the 2nd time we have tried 2 contact u...\n",
       "5568   0              Will Ì_ b going to esplanade fr home?\n",
       "5569   0  Pity, * was in mood for that. So...any other s...\n",
       "5570   0  The guy did some bitching but I acted like i'd...\n",
       "5571   0                         Rofl. Its true to its name\n",
       "\n",
       "[5572 rows x 2 columns]"
      ]
     },
     "execution_count": 10,
     "metadata": {},
     "output_type": "execute_result"
    }
   ],
   "source": [
    "df"
   ]
  },
  {
   "cell_type": "code",
   "execution_count": 11,
   "id": "506f6bb3",
   "metadata": {},
   "outputs": [
    {
     "data": {
      "text/plain": [
       "403"
      ]
     },
     "execution_count": 11,
     "metadata": {},
     "output_type": "execute_result"
    }
   ],
   "source": [
    "df.duplicated().sum() # Checking duplicate values in the data"
   ]
  },
  {
   "cell_type": "code",
   "execution_count": 12,
   "id": "f9fcd685",
   "metadata": {},
   "outputs": [],
   "source": [
    "df = df.drop_duplicates(keep='first') # Deleting duplicate values from the data"
   ]
  },
  {
   "cell_type": "code",
   "execution_count": 13,
   "id": "2e042c37",
   "metadata": {},
   "outputs": [
    {
     "data": {
      "text/plain": [
       "0"
      ]
     },
     "execution_count": 13,
     "metadata": {},
     "output_type": "execute_result"
    }
   ],
   "source": [
    "df.duplicated().sum()"
   ]
  },
  {
   "cell_type": "markdown",
   "id": "1b3bbec2",
   "metadata": {},
   "source": [
    "# EDA"
   ]
  },
  {
   "cell_type": "code",
   "execution_count": 14,
   "id": "5d103033",
   "metadata": {},
   "outputs": [],
   "source": [
    "df['V2_Char_length'] = df['v2'].apply(len) # creating column to check the length of characters "
   ]
  },
  {
   "cell_type": "code",
   "execution_count": 15,
   "id": "617ba4d1",
   "metadata": {},
   "outputs": [],
   "source": [
    "df['V2_words_length'] = df['v2'].apply(lambda x:len(nltk.word_tokenize(x))) # creating column to check the length of words "
   ]
  },
  {
   "cell_type": "code",
   "execution_count": 16,
   "id": "cc8323d3",
   "metadata": {},
   "outputs": [],
   "source": [
    "df['V2_sentences_length'] = df['v2'].apply(lambda x:len(nltk.sent_tokenize(x))) # creating column to check the length of sentences"
   ]
  },
  {
   "cell_type": "code",
   "execution_count": 17,
   "id": "ea159557",
   "metadata": {},
   "outputs": [
    {
     "data": {
      "text/html": [
       "<div>\n",
       "<style scoped>\n",
       "    .dataframe tbody tr th:only-of-type {\n",
       "        vertical-align: middle;\n",
       "    }\n",
       "\n",
       "    .dataframe tbody tr th {\n",
       "        vertical-align: top;\n",
       "    }\n",
       "\n",
       "    .dataframe thead th {\n",
       "        text-align: right;\n",
       "    }\n",
       "</style>\n",
       "<table border=\"1\" class=\"dataframe\">\n",
       "  <thead>\n",
       "    <tr style=\"text-align: right;\">\n",
       "      <th></th>\n",
       "      <th>v1</th>\n",
       "      <th>V2_Char_length</th>\n",
       "      <th>V2_words_length</th>\n",
       "      <th>V2_sentences_length</th>\n",
       "    </tr>\n",
       "  </thead>\n",
       "  <tbody>\n",
       "    <tr>\n",
       "      <th>count</th>\n",
       "      <td>5169.000000</td>\n",
       "      <td>5169.000000</td>\n",
       "      <td>5169.000000</td>\n",
       "      <td>5169.000000</td>\n",
       "    </tr>\n",
       "    <tr>\n",
       "      <th>mean</th>\n",
       "      <td>0.126330</td>\n",
       "      <td>78.977945</td>\n",
       "      <td>18.455407</td>\n",
       "      <td>1.961308</td>\n",
       "    </tr>\n",
       "    <tr>\n",
       "      <th>std</th>\n",
       "      <td>0.332253</td>\n",
       "      <td>58.236293</td>\n",
       "      <td>13.322448</td>\n",
       "      <td>1.432583</td>\n",
       "    </tr>\n",
       "    <tr>\n",
       "      <th>min</th>\n",
       "      <td>0.000000</td>\n",
       "      <td>2.000000</td>\n",
       "      <td>1.000000</td>\n",
       "      <td>1.000000</td>\n",
       "    </tr>\n",
       "    <tr>\n",
       "      <th>25%</th>\n",
       "      <td>0.000000</td>\n",
       "      <td>36.000000</td>\n",
       "      <td>9.000000</td>\n",
       "      <td>1.000000</td>\n",
       "    </tr>\n",
       "    <tr>\n",
       "      <th>50%</th>\n",
       "      <td>0.000000</td>\n",
       "      <td>60.000000</td>\n",
       "      <td>15.000000</td>\n",
       "      <td>1.000000</td>\n",
       "    </tr>\n",
       "    <tr>\n",
       "      <th>75%</th>\n",
       "      <td>0.000000</td>\n",
       "      <td>117.000000</td>\n",
       "      <td>26.000000</td>\n",
       "      <td>2.000000</td>\n",
       "    </tr>\n",
       "    <tr>\n",
       "      <th>max</th>\n",
       "      <td>1.000000</td>\n",
       "      <td>910.000000</td>\n",
       "      <td>220.000000</td>\n",
       "      <td>38.000000</td>\n",
       "    </tr>\n",
       "  </tbody>\n",
       "</table>\n",
       "</div>"
      ],
      "text/plain": [
       "                v1  V2_Char_length  V2_words_length  V2_sentences_length\n",
       "count  5169.000000     5169.000000      5169.000000          5169.000000\n",
       "mean      0.126330       78.977945        18.455407             1.961308\n",
       "std       0.332253       58.236293        13.322448             1.432583\n",
       "min       0.000000        2.000000         1.000000             1.000000\n",
       "25%       0.000000       36.000000         9.000000             1.000000\n",
       "50%       0.000000       60.000000        15.000000             1.000000\n",
       "75%       0.000000      117.000000        26.000000             2.000000\n",
       "max       1.000000      910.000000       220.000000            38.000000"
      ]
     },
     "execution_count": 17,
     "metadata": {},
     "output_type": "execute_result"
    }
   ],
   "source": [
    "df.describe()"
   ]
  },
  {
   "cell_type": "markdown",
   "id": "9296f051",
   "metadata": {},
   "source": [
    "By looking at max value of V2_Char_length, V2_words_length and V2_sentences_length we can conclude that there are big mails and messages present in the data"
   ]
  },
  {
   "cell_type": "code",
   "execution_count": 18,
   "id": "8cd9ab23",
   "metadata": {},
   "outputs": [
    {
     "data": {
      "image/png": "[encoded data removed]",
      "text/plain": [
       "<Figure size 720x504 with 1 Axes>"
      ]
     },
     "metadata": {
      "needs_background": "light"
     },
     "output_type": "display_data"
    }
   ],
   "source": [
    "plt.figure(figsize=(10,7))\n",
    "sns.histplot(df[df['v1'] == 0]['V2_Char_length'])\n",
    "sns.histplot(df[df['v1'] == 1]['V2_Char_length'],color='red')\n",
    "plt.show()"
   ]
  },
  {
   "cell_type": "markdown",
   "id": "a1db0b64",
   "metadata": {},
   "source": [
    "Observation - \n",
    "\n",
    "- Spam mails and messages contain more number of characters that ham mails and messages"
   ]
  },
  {
   "cell_type": "code",
   "execution_count": 19,
   "id": "681055e0",
   "metadata": {},
   "outputs": [
    {
     "data": {
      "image/png": "[encoded data removed]",
      "text/plain": [
       "<Figure size 720x504 with 1 Axes>"
      ]
     },
     "metadata": {
      "needs_background": "light"
     },
     "output_type": "display_data"
    }
   ],
   "source": [
    "plt.figure(figsize=(10,7))\n",
    "sns.histplot(df[df['v1'] == 0]['V2_words_length'])\n",
    "sns.histplot(df[df['v1'] == 1]['V2_words_length'],color='red')\n",
    "plt.show()"
   ]
  },
  {
   "cell_type": "markdown",
   "id": "b0507f55",
   "metadata": {},
   "source": [
    "Observation -\n",
    "\n",
    "- Spam mails and messages contain more number of words that ham mails and messages"
   ]
  },
  {
   "cell_type": "code",
   "execution_count": 20,
   "id": "a716db6d",
   "metadata": {},
   "outputs": [
    {
     "data": {
      "image/png": "[encoded data removed]",
      "text/plain": [
       "<Figure size 720x504 with 1 Axes>"
      ]
     },
     "metadata": {
      "needs_background": "light"
     },
     "output_type": "display_data"
    }
   ],
   "source": [
    "plt.figure(figsize=(10,7))\n",
    "sns.histplot(df[df['v1'] == 0]['V2_sentences_length'])\n",
    "sns.histplot(df[df['v1'] == 1]['V2_sentences_length'],color='red')\n",
    "plt.show()"
   ]
  },
  {
   "cell_type": "markdown",
   "id": "c6da5dac",
   "metadata": {},
   "source": [
    "Observation -\n",
    "\n",
    "- Spam mails and messages contain more number of sentences that ham mails and messages"
   ]
  },
  {
   "cell_type": "markdown",
   "id": "de828300",
   "metadata": {},
   "source": [
    "# Data Processing"
   ]
  },
  {
   "cell_type": "code",
   "execution_count": 24,
   "id": "872e0809",
   "metadata": {},
   "outputs": [],
   "source": [
    "def text_transform(text): # defining fuction to clean the data\n",
    "    text = text.lower()\n",
    "    text = nltk.word_tokenize(text)\n",
    "    \n",
    "    y= []\n",
    "    for i in text:\n",
    "        if i.isalnum():\n",
    "            y.append(i)\n",
    "    text = y[:]\n",
    "    y.clear()\n",
    "    \n",
    "    for i in text:\n",
    "        if i not in stopwords.words('english') and i not in string.punctuation:\n",
    "            y.append(i)\n",
    "            \n",
    "    text = y[:]\n",
    "    y.clear()\n",
    "    \n",
    "    for i in text:\n",
    "        y.append(PorterStemmer().stem(i))\n",
    "    \n",
    "    return \" \".join(y)"
   ]
  },
  {
   "cell_type": "code",
   "execution_count": 25,
   "id": "6b3435d2",
   "metadata": {},
   "outputs": [
    {
     "data": {
      "text/html": [
       "<div>\n",
       "<style scoped>\n",
       "    .dataframe tbody tr th:only-of-type {\n",
       "        vertical-align: middle;\n",
       "    }\n",
       "\n",
       "    .dataframe tbody tr th {\n",
       "        vertical-align: top;\n",
       "    }\n",
       "\n",
       "    .dataframe thead th {\n",
       "        text-align: right;\n",
       "    }\n",
       "</style>\n",
       "<table border=\"1\" class=\"dataframe\">\n",
       "  <thead>\n",
       "    <tr style=\"text-align: right;\">\n",
       "      <th></th>\n",
       "      <th>v1</th>\n",
       "      <th>v2</th>\n",
       "      <th>V2_Char_length</th>\n",
       "      <th>V2_words_length</th>\n",
       "      <th>V2_sentences_length</th>\n",
       "    </tr>\n",
       "  </thead>\n",
       "  <tbody>\n",
       "    <tr>\n",
       "      <th>0</th>\n",
       "      <td>0</td>\n",
       "      <td>Go until jurong point, crazy.. Available only ...</td>\n",
       "      <td>111</td>\n",
       "      <td>24</td>\n",
       "      <td>2</td>\n",
       "    </tr>\n",
       "    <tr>\n",
       "      <th>1</th>\n",
       "      <td>0</td>\n",
       "      <td>Ok lar... Joking wif u oni...</td>\n",
       "      <td>29</td>\n",
       "      <td>8</td>\n",
       "      <td>2</td>\n",
       "    </tr>\n",
       "    <tr>\n",
       "      <th>2</th>\n",
       "      <td>1</td>\n",
       "      <td>Free entry in 2 a wkly comp to win FA Cup fina...</td>\n",
       "      <td>155</td>\n",
       "      <td>37</td>\n",
       "      <td>2</td>\n",
       "    </tr>\n",
       "    <tr>\n",
       "      <th>3</th>\n",
       "      <td>0</td>\n",
       "      <td>U dun say so early hor... U c already then say...</td>\n",
       "      <td>49</td>\n",
       "      <td>13</td>\n",
       "      <td>1</td>\n",
       "    </tr>\n",
       "    <tr>\n",
       "      <th>4</th>\n",
       "      <td>0</td>\n",
       "      <td>Nah I don't think he goes to usf, he lives aro...</td>\n",
       "      <td>61</td>\n",
       "      <td>15</td>\n",
       "      <td>1</td>\n",
       "    </tr>\n",
       "    <tr>\n",
       "      <th>...</th>\n",
       "      <td>...</td>\n",
       "      <td>...</td>\n",
       "      <td>...</td>\n",
       "      <td>...</td>\n",
       "      <td>...</td>\n",
       "    </tr>\n",
       "    <tr>\n",
       "      <th>5567</th>\n",
       "      <td>1</td>\n",
       "      <td>This is the 2nd time we have tried 2 contact u...</td>\n",
       "      <td>161</td>\n",
       "      <td>35</td>\n",
       "      <td>4</td>\n",
       "    </tr>\n",
       "    <tr>\n",
       "      <th>5568</th>\n",
       "      <td>0</td>\n",
       "      <td>Will Ì_ b going to esplanade fr home?</td>\n",
       "      <td>37</td>\n",
       "      <td>9</td>\n",
       "      <td>1</td>\n",
       "    </tr>\n",
       "    <tr>\n",
       "      <th>5569</th>\n",
       "      <td>0</td>\n",
       "      <td>Pity, * was in mood for that. So...any other s...</td>\n",
       "      <td>57</td>\n",
       "      <td>15</td>\n",
       "      <td>2</td>\n",
       "    </tr>\n",
       "    <tr>\n",
       "      <th>5570</th>\n",
       "      <td>0</td>\n",
       "      <td>The guy did some bitching but I acted like i'd...</td>\n",
       "      <td>125</td>\n",
       "      <td>27</td>\n",
       "      <td>1</td>\n",
       "    </tr>\n",
       "    <tr>\n",
       "      <th>5571</th>\n",
       "      <td>0</td>\n",
       "      <td>Rofl. Its true to its name</td>\n",
       "      <td>26</td>\n",
       "      <td>7</td>\n",
       "      <td>2</td>\n",
       "    </tr>\n",
       "  </tbody>\n",
       "</table>\n",
       "<p>5169 rows × 5 columns</p>\n",
       "</div>"
      ],
      "text/plain": [
       "      v1                                                 v2  V2_Char_length  \\\n",
       "0      0  Go until jurong point, crazy.. Available only ...             111   \n",
       "1      0                      Ok lar... Joking wif u oni...              29   \n",
       "2      1  Free entry in 2 a wkly comp to win FA Cup fina...             155   \n",
       "3      0  U dun say so early hor... U c already then say...              49   \n",
       "4      0  Nah I don't think he goes to usf, he lives aro...              61   \n",
       "...   ..                                                ...             ...   \n",
       "5567   1  This is the 2nd time we have tried 2 contact u...             161   \n",
       "5568   0              Will Ì_ b going to esplanade fr home?              37   \n",
       "5569   0  Pity, * was in mood for that. So...any other s...              57   \n",
       "5570   0  The guy did some bitching but I acted like i'd...             125   \n",
       "5571   0                         Rofl. Its true to its name              26   \n",
       "\n",
       "      V2_words_length  V2_sentences_length  \n",
       "0                  24                    2  \n",
       "1                   8                    2  \n",
       "2                  37                    2  \n",
       "3                  13                    1  \n",
       "4                  15                    1  \n",
       "...               ...                  ...  \n",
       "5567               35                    4  \n",
       "5568                9                    1  \n",
       "5569               15                    2  \n",
       "5570               27                    1  \n",
       "5571                7                    2  \n",
       "\n",
       "[5169 rows x 5 columns]"
      ]
     },
     "execution_count": 25,
     "metadata": {},
     "output_type": "execute_result"
    }
   ],
   "source": [
    "df"
   ]
  },
  {
   "cell_type": "code",
   "execution_count": 26,
   "id": "ab518c95",
   "metadata": {},
   "outputs": [],
   "source": [
    "df['transform_text'] = df['v2'].apply(text_transform) # Applying text_transform define function to data and creating new column for transformed data"
   ]
  },
  {
   "cell_type": "code",
   "execution_count": 27,
   "id": "93695d88",
   "metadata": {},
   "outputs": [
    {
     "data": {
      "text/html": [
       "<div>\n",
       "<style scoped>\n",
       "    .dataframe tbody tr th:only-of-type {\n",
       "        vertical-align: middle;\n",
       "    }\n",
       "\n",
       "    .dataframe tbody tr th {\n",
       "        vertical-align: top;\n",
       "    }\n",
       "\n",
       "    .dataframe thead th {\n",
       "        text-align: right;\n",
       "    }\n",
       "</style>\n",
       "<table border=\"1\" class=\"dataframe\">\n",
       "  <thead>\n",
       "    <tr style=\"text-align: right;\">\n",
       "      <th></th>\n",
       "      <th>v1</th>\n",
       "      <th>v2</th>\n",
       "      <th>V2_Char_length</th>\n",
       "      <th>V2_words_length</th>\n",
       "      <th>V2_sentences_length</th>\n",
       "      <th>transform_text</th>\n",
       "    </tr>\n",
       "  </thead>\n",
       "  <tbody>\n",
       "    <tr>\n",
       "      <th>0</th>\n",
       "      <td>0</td>\n",
       "      <td>Go until jurong point, crazy.. Available only ...</td>\n",
       "      <td>111</td>\n",
       "      <td>24</td>\n",
       "      <td>2</td>\n",
       "      <td>go jurong point crazi avail bugi n great world...</td>\n",
       "    </tr>\n",
       "    <tr>\n",
       "      <th>1</th>\n",
       "      <td>0</td>\n",
       "      <td>Ok lar... Joking wif u oni...</td>\n",
       "      <td>29</td>\n",
       "      <td>8</td>\n",
       "      <td>2</td>\n",
       "      <td>ok lar joke wif u oni</td>\n",
       "    </tr>\n",
       "    <tr>\n",
       "      <th>2</th>\n",
       "      <td>1</td>\n",
       "      <td>Free entry in 2 a wkly comp to win FA Cup fina...</td>\n",
       "      <td>155</td>\n",
       "      <td>37</td>\n",
       "      <td>2</td>\n",
       "      <td>free entri 2 wkli comp win fa cup final tkt 21...</td>\n",
       "    </tr>\n",
       "    <tr>\n",
       "      <th>3</th>\n",
       "      <td>0</td>\n",
       "      <td>U dun say so early hor... U c already then say...</td>\n",
       "      <td>49</td>\n",
       "      <td>13</td>\n",
       "      <td>1</td>\n",
       "      <td>u dun say earli hor u c alreadi say</td>\n",
       "    </tr>\n",
       "    <tr>\n",
       "      <th>4</th>\n",
       "      <td>0</td>\n",
       "      <td>Nah I don't think he goes to usf, he lives aro...</td>\n",
       "      <td>61</td>\n",
       "      <td>15</td>\n",
       "      <td>1</td>\n",
       "      <td>nah think goe usf live around though</td>\n",
       "    </tr>\n",
       "    <tr>\n",
       "      <th>...</th>\n",
       "      <td>...</td>\n",
       "      <td>...</td>\n",
       "      <td>...</td>\n",
       "      <td>...</td>\n",
       "      <td>...</td>\n",
       "      <td>...</td>\n",
       "    </tr>\n",
       "    <tr>\n",
       "      <th>5567</th>\n",
       "      <td>1</td>\n",
       "      <td>This is the 2nd time we have tried 2 contact u...</td>\n",
       "      <td>161</td>\n",
       "      <td>35</td>\n",
       "      <td>4</td>\n",
       "      <td>2nd time tri 2 contact u pound prize 2 claim e...</td>\n",
       "    </tr>\n",
       "    <tr>\n",
       "      <th>5568</th>\n",
       "      <td>0</td>\n",
       "      <td>Will Ì_ b going to esplanade fr home?</td>\n",
       "      <td>37</td>\n",
       "      <td>9</td>\n",
       "      <td>1</td>\n",
       "      <td>b go esplanad fr home</td>\n",
       "    </tr>\n",
       "    <tr>\n",
       "      <th>5569</th>\n",
       "      <td>0</td>\n",
       "      <td>Pity, * was in mood for that. So...any other s...</td>\n",
       "      <td>57</td>\n",
       "      <td>15</td>\n",
       "      <td>2</td>\n",
       "      <td>piti mood suggest</td>\n",
       "    </tr>\n",
       "    <tr>\n",
       "      <th>5570</th>\n",
       "      <td>0</td>\n",
       "      <td>The guy did some bitching but I acted like i'd...</td>\n",
       "      <td>125</td>\n",
       "      <td>27</td>\n",
       "      <td>1</td>\n",
       "      <td>guy bitch act like interest buy someth els nex...</td>\n",
       "    </tr>\n",
       "    <tr>\n",
       "      <th>5571</th>\n",
       "      <td>0</td>\n",
       "      <td>Rofl. Its true to its name</td>\n",
       "      <td>26</td>\n",
       "      <td>7</td>\n",
       "      <td>2</td>\n",
       "      <td>rofl true name</td>\n",
       "    </tr>\n",
       "  </tbody>\n",
       "</table>\n",
       "<p>5169 rows × 6 columns</p>\n",
       "</div>"
      ],
      "text/plain": [
       "      v1                                                 v2  V2_Char_length  \\\n",
       "0      0  Go until jurong point, crazy.. Available only ...             111   \n",
       "1      0                      Ok lar... Joking wif u oni...              29   \n",
       "2      1  Free entry in 2 a wkly comp to win FA Cup fina...             155   \n",
       "3      0  U dun say so early hor... U c already then say...              49   \n",
       "4      0  Nah I don't think he goes to usf, he lives aro...              61   \n",
       "...   ..                                                ...             ...   \n",
       "5567   1  This is the 2nd time we have tried 2 contact u...             161   \n",
       "5568   0              Will Ì_ b going to esplanade fr home?              37   \n",
       "5569   0  Pity, * was in mood for that. So...any other s...              57   \n",
       "5570   0  The guy did some bitching but I acted like i'd...             125   \n",
       "5571   0                         Rofl. Its true to its name              26   \n",
       "\n",
       "      V2_words_length  V2_sentences_length  \\\n",
       "0                  24                    2   \n",
       "1                   8                    2   \n",
       "2                  37                    2   \n",
       "3                  13                    1   \n",
       "4                  15                    1   \n",
       "...               ...                  ...   \n",
       "5567               35                    4   \n",
       "5568                9                    1   \n",
       "5569               15                    2   \n",
       "5570               27                    1   \n",
       "5571                7                    2   \n",
       "\n",
       "                                         transform_text  \n",
       "0     go jurong point crazi avail bugi n great world...  \n",
       "1                                 ok lar joke wif u oni  \n",
       "2     free entri 2 wkli comp win fa cup final tkt 21...  \n",
       "3                   u dun say earli hor u c alreadi say  \n",
       "4                  nah think goe usf live around though  \n",
       "...                                                 ...  \n",
       "5567  2nd time tri 2 contact u pound prize 2 claim e...  \n",
       "5568                              b go esplanad fr home  \n",
       "5569                                  piti mood suggest  \n",
       "5570  guy bitch act like interest buy someth els nex...  \n",
       "5571                                     rofl true name  \n",
       "\n",
       "[5169 rows x 6 columns]"
      ]
     },
     "execution_count": 27,
     "metadata": {},
     "output_type": "execute_result"
    }
   ],
   "source": [
    "df"
   ]
  },
  {
   "cell_type": "code",
   "execution_count": 30,
   "id": "d23b1342",
   "metadata": {},
   "outputs": [
    {
     "data": {
      "image/png": "[encoded data removed]",
      "text/plain": [
       "<Figure size 864x720 with 1 Axes>"
      ]
     },
     "metadata": {
      "needs_background": "light"
     },
     "output_type": "display_data"
    }
   ],
   "source": [
    "x1 = df['transform_text'][df['v1']==1]\n",
    "x2 = WordCloud(width=500, height=300, max_words=60).generate(''.join(x1))\n",
    "plt.figure(figsize=(12,10))\n",
    "plt.imshow(x2)\n",
    "plt.axis('off')\n",
    "plt.tight_layout()\n",
    "plt.show()"
   ]
  },
  {
   "cell_type": "markdown",
   "id": "6cda7bb1",
   "metadata": {},
   "source": [
    "Observations - \n",
    "\n",
    "- Free, Call, Please, Text, txt are some words which are occuring for most number of time"
   ]
  },
  {
   "cell_type": "code",
   "execution_count": 87,
   "id": "8a37c516",
   "metadata": {},
   "outputs": [],
   "source": [
    "cv = CountVectorizer()\n",
    "\n",
    "X = cv.fit_transform(df['transform_text']).toarray() # converting data into vectors by using CountVectorizer and setting it for train data"
   ]
  },
  {
   "cell_type": "code",
   "execution_count": 88,
   "id": "433afd83",
   "metadata": {},
   "outputs": [],
   "source": [
    "Y = df['v1'].values # Assigning test data to variable Y"
   ]
  },
  {
   "cell_type": "code",
   "execution_count": 89,
   "id": "56cad488",
   "metadata": {},
   "outputs": [],
   "source": [
    "def print_score(clf, x_train,x_test,y_train,y_test, train=True):  # Defining fuction for model building\n",
    "    if train:\n",
    "        y_pred = clf.predict(x_train)\n",
    "        \n",
    "        print('\\n===============Train Result===============')\n",
    "        print(f'Accuracy Score: {accuracy_score(y_train, y_pred)*100:.2f}%')\n",
    "        \n",
    "        \n",
    "    elif train==False:\n",
    "        pred = clf.predict(x_test)\n",
    "        \n",
    "        print('\\n===============Test Result===============')\n",
    "        print(f'Accuracy Score: {accuracy_score(y_test, pred)*100:.2f}%')\n",
    "        \n",
    "        print('\\n \\n Test Classification Report \\n', classification_report(y_test, pred, digits=2))\n",
    "        print('\\n=========================================')\n",
    "        \n",
    "        con_mat = confusion_matrix(y_test, pred)\n",
    "        print('\\nconfusion Matrix- \\n', con_mat)\n",
    "        print('\\n=========================================')"
   ]
  },
  {
   "cell_type": "code",
   "execution_count": 90,
   "id": "53df0bfe",
   "metadata": {},
   "outputs": [],
   "source": [
    "gnb = GaussianNB() \n",
    "mnb = MultinomialNB() \n",
    "bnb = BernoulliNB()"
   ]
  },
  {
   "cell_type": "markdown",
   "id": "9b84dc96",
   "metadata": {},
   "source": [
    "## GaussianNB"
   ]
  },
  {
   "cell_type": "code",
   "execution_count": 91,
   "id": "b3b00401",
   "metadata": {
    "scrolled": true
   },
   "outputs": [
    {
     "name": "stdout",
     "output_type": "stream",
     "text": [
      "accuracy 0.8669760247486465 Random_state 1\n",
      "max_accuracy 0.8669760247486465 max_Random_state 1\n",
      "accuracy 0.8723897911832946 Random_state 2\n",
      "max_accuracy 0.8723897911832946 max_Random_state 2\n",
      "accuracy 0.8692962103634957 Random_state 3\n",
      "accuracy 0.8631090487238979 Random_state 4\n",
      "accuracy 0.868522815158546 Random_state 5\n",
      "accuracy 0.8723897911832946 Random_state 6\n",
      "accuracy 0.8747099767981439 Random_state 7\n",
      "max_accuracy 0.8747099767981439 max_Random_state 7\n",
      "accuracy 0.8646558391337974 Random_state 8\n",
      "accuracy 0.8576952822892498 Random_state 9\n",
      "accuracy 0.8623356535189481 Random_state 10\n",
      "accuracy 0.8793503480278422 Random_state 11\n",
      "max_accuracy 0.8793503480278422 max_Random_state 11\n",
      "accuracy 0.8708430007733952 Random_state 12\n",
      "accuracy 0.8747099767981439 Random_state 13\n",
      "accuracy 0.8731631863882444 Random_state 14\n",
      "accuracy 0.8808971384377416 Random_state 15\n",
      "max_accuracy 0.8808971384377416 max_Random_state 15\n",
      "accuracy 0.8584686774941995 Random_state 16\n",
      "accuracy 0.8747099767981439 Random_state 17\n",
      "accuracy 0.8747099767981439 Random_state 18\n",
      "accuracy 0.8700696055684455 Random_state 19\n",
      "accuracy 0.8692962103634957 Random_state 20\n",
      "accuracy 0.8615622583139985 Random_state 21\n",
      "accuracy 0.8615622583139985 Random_state 22\n",
      "accuracy 0.8754833720030936 Random_state 23\n",
      "accuracy 0.8646558391337974 Random_state 24\n",
      "accuracy 0.8731631863882444 Random_state 25\n",
      "accuracy 0.860015467904099 Random_state 26\n",
      "accuracy 0.8561484918793504 Random_state 27\n",
      "accuracy 0.8662026295436969 Random_state 28\n",
      "accuracy 0.8863109048723898 Random_state 29\n",
      "max_accuracy 0.8863109048723898 max_Random_state 29\n",
      "accuracy 0.8677494199535963 Random_state 30\n",
      "accuracy 0.8832173240525909 Random_state 31\n",
      "accuracy 0.8692962103634957 Random_state 32\n",
      "accuracy 0.8507347254447022 Random_state 33\n",
      "accuracy 0.8592420726991493 Random_state 34\n",
      "accuracy 0.8708430007733952 Random_state 35\n",
      "accuracy 0.8607888631090487 Random_state 36\n",
      "accuracy 0.8654292343387471 Random_state 37\n",
      "accuracy 0.8863109048723898 Random_state 38\n",
      "accuracy 0.8731631863882444 Random_state 39\n",
      "accuracy 0.8785769528228925 Random_state 40\n",
      "accuracy 0.8731631863882444 Random_state 41\n",
      "accuracy 0.8731631863882444 Random_state 42\n",
      "accuracy 0.8692962103634957 Random_state 43\n",
      "accuracy 0.8832173240525909 Random_state 44\n",
      "accuracy 0.8739365815931941 Random_state 45\n",
      "accuracy 0.8731631863882444 Random_state 46\n",
      "accuracy 0.8778035576179428 Random_state 47\n",
      "accuracy 0.8677494199535963 Random_state 48\n",
      "accuracy 0.8700696055684455 Random_state 49\n",
      "accuracy 0.8739365815931941 Random_state 50\n",
      "accuracy 0.8708430007733952 Random_state 51\n",
      "accuracy 0.8700696055684455 Random_state 52\n",
      "accuracy 0.8677494199535963 Random_state 53\n",
      "accuracy 0.8723897911832946 Random_state 54\n",
      "accuracy 0.8747099767981439 Random_state 55\n",
      "accuracy 0.8677494199535963 Random_state 56\n",
      "accuracy 0.8739365815931941 Random_state 57\n",
      "accuracy 0.877030162412993 Random_state 58\n",
      "accuracy 0.8700696055684455 Random_state 59\n",
      "accuracy 0.8824439288476411 Random_state 60\n",
      "accuracy 0.868522815158546 Random_state 61\n",
      "accuracy 0.8553750966744006 Random_state 62\n",
      "accuracy 0.868522815158546 Random_state 63\n",
      "accuracy 0.8638824439288476 Random_state 64\n",
      "accuracy 0.8646558391337974 Random_state 65\n",
      "accuracy 0.871616395978345 Random_state 66\n",
      "accuracy 0.8677494199535963 Random_state 67\n",
      "accuracy 0.8747099767981439 Random_state 68\n",
      "accuracy 0.8754833720030936 Random_state 69\n",
      "accuracy 0.8785769528228925 Random_state 70\n",
      "accuracy 0.8708430007733952 Random_state 71\n",
      "accuracy 0.8723897911832946 Random_state 72\n",
      "accuracy 0.8723897911832946 Random_state 73\n",
      "accuracy 0.8754833720030936 Random_state 74\n",
      "accuracy 0.8739365815931941 Random_state 75\n",
      "accuracy 0.8747099767981439 Random_state 76\n",
      "accuracy 0.8692962103634957 Random_state 77\n",
      "accuracy 0.8731631863882444 Random_state 78\n",
      "accuracy 0.8808971384377416 Random_state 79\n",
      "accuracy 0.8662026295436969 Random_state 80\n",
      "accuracy 0.8723897911832946 Random_state 81\n",
      "accuracy 0.8778035576179428 Random_state 82\n",
      "accuracy 0.8692962103634957 Random_state 83\n",
      "accuracy 0.871616395978345 Random_state 84\n",
      "accuracy 0.8739365815931941 Random_state 85\n",
      "accuracy 0.8677494199535963 Random_state 86\n",
      "accuracy 0.868522815158546 Random_state 87\n",
      "accuracy 0.868522815158546 Random_state 88\n",
      "accuracy 0.8708430007733952 Random_state 89\n",
      "accuracy 0.8839907192575406 Random_state 90\n",
      "accuracy 0.8654292343387471 Random_state 91\n",
      "accuracy 0.8824439288476411 Random_state 92\n",
      "accuracy 0.8708430007733952 Random_state 93\n",
      "accuracy 0.8584686774941995 Random_state 94\n",
      "accuracy 0.8739365815931941 Random_state 95\n",
      "accuracy 0.8576952822892498 Random_state 96\n",
      "accuracy 0.8778035576179428 Random_state 97\n",
      "accuracy 0.8808971384377416 Random_state 98\n",
      "accuracy 0.8692962103634957 Random_state 99\n"
     ]
    }
   ],
   "source": [
    "maxAccu =0  # Checking the highest test accuracy with range of random_state from 1-100\n",
    "maxRS= 0\n",
    "\n",
    "for i in range(1,100):\n",
    "    x_train,x_test,y_train,y_test = train_test_split(X,Y,test_size = 0.25,random_state = i)\n",
    "    gnb = GaussianNB()\n",
    "    gnb.fit(x_train,y_train)\n",
    "    y_pred=gnb.predict(x_test)\n",
    "    acc=accuracy_score(y_test, y_pred)\n",
    "    print('accuracy', acc,'Random_state',i)\n",
    "    \n",
    "    if acc>maxAccu:\n",
    "        maxAccu=acc\n",
    "        maxRS=i\n",
    "        print('max_accuracy', maxAccu,'max_Random_state',i)"
   ]
  },
  {
   "cell_type": "code",
   "execution_count": 92,
   "id": "6940b1a6",
   "metadata": {},
   "outputs": [],
   "source": [
    "x_train,x_test,y_train,y_test = train_test_split(X,Y,test_size = 0.25,random_state = 29)"
   ]
  },
  {
   "cell_type": "code",
   "execution_count": 93,
   "id": "e0799eca",
   "metadata": {},
   "outputs": [
    {
     "name": "stdout",
     "output_type": "stream",
     "text": [
      "\n",
      "===============Train Result===============\n",
      "Accuracy Score: 92.70%\n",
      "\n",
      "===============Test Result===============\n",
      "Accuracy Score: 88.63%\n",
      "\n",
      " \n",
      " Test Classification Report \n",
      "               precision    recall  f1-score   support\n",
      "\n",
      "           0       0.98      0.89      0.93      1134\n",
      "           1       0.52      0.89      0.66       159\n",
      "\n",
      "    accuracy                           0.89      1293\n",
      "   macro avg       0.75      0.89      0.80      1293\n",
      "weighted avg       0.93      0.89      0.90      1293\n",
      "\n",
      "\n",
      "=========================================\n",
      "\n",
      "confusion Matrix- \n",
      " [[1004  130]\n",
      " [  17  142]]\n",
      "\n",
      "=========================================\n"
     ]
    }
   ],
   "source": [
    "gnb = GaussianNB() \n",
    "gnb.fit(x_train,y_train)\n",
    "\n",
    "print_score(gnb,x_train,x_test,y_train,y_test, train=True)\n",
    "print_score(gnb,x_train,x_test,y_train,y_test, train=False)"
   ]
  },
  {
   "cell_type": "markdown",
   "id": "400a68ab",
   "metadata": {},
   "source": [
    "## MultinomialNB"
   ]
  },
  {
   "cell_type": "code",
   "execution_count": 94,
   "id": "8a6bbf0a",
   "metadata": {
    "scrolled": true
   },
   "outputs": [
    {
     "name": "stdout",
     "output_type": "stream",
     "text": [
      "accuracy 0.97138437741686 Random_state 1\n",
      "max_accuracy 0.97138437741686 max_Random_state 1\n",
      "accuracy 0.9659706109822119 Random_state 2\n",
      "accuracy 0.97138437741686 Random_state 3\n",
      "accuracy 0.9760247486465584 Random_state 4\n",
      "max_accuracy 0.9760247486465584 max_Random_state 4\n",
      "accuracy 0.962877030162413 Random_state 5\n",
      "accuracy 0.9752513534416086 Random_state 6\n",
      "accuracy 0.974477958236659 Random_state 7\n",
      "accuracy 0.9644238205723125 Random_state 8\n",
      "accuracy 0.9667440061871616 Random_state 9\n",
      "accuracy 0.9721577726218097 Random_state 10\n",
      "accuracy 0.9698375870069605 Random_state 11\n",
      "accuracy 0.9737045630317092 Random_state 12\n",
      "accuracy 0.9752513534416086 Random_state 13\n",
      "accuracy 0.9760247486465584 Random_state 14\n",
      "accuracy 0.9752513534416086 Random_state 15\n",
      "accuracy 0.9667440061871616 Random_state 16\n",
      "accuracy 0.9737045630317092 Random_state 17\n",
      "accuracy 0.9729311678267595 Random_state 18\n",
      "accuracy 0.974477958236659 Random_state 19\n",
      "accuracy 0.9783449342614076 Random_state 20\n",
      "max_accuracy 0.9783449342614076 max_Random_state 20\n",
      "accuracy 0.9752513534416086 Random_state 21\n",
      "accuracy 0.97138437741686 Random_state 22\n",
      "accuracy 0.9791183294663574 Random_state 23\n",
      "max_accuracy 0.9791183294663574 max_Random_state 23\n",
      "accuracy 0.9752513534416086 Random_state 24\n",
      "accuracy 0.9729311678267595 Random_state 25\n",
      "accuracy 0.9791183294663574 Random_state 26\n",
      "accuracy 0.9690641918020109 Random_state 27\n",
      "accuracy 0.9783449342614076 Random_state 28\n",
      "accuracy 0.9760247486465584 Random_state 29\n",
      "accuracy 0.9767981438515081 Random_state 30\n",
      "accuracy 0.9767981438515081 Random_state 31\n",
      "accuracy 0.979891724671307 Random_state 32\n",
      "max_accuracy 0.979891724671307 max_Random_state 32\n",
      "accuracy 0.9791183294663574 Random_state 33\n",
      "accuracy 0.9783449342614076 Random_state 34\n",
      "accuracy 0.9760247486465584 Random_state 35\n",
      "accuracy 0.9814385150812065 Random_state 36\n",
      "max_accuracy 0.9814385150812065 max_Random_state 36\n",
      "accuracy 0.9651972157772621 Random_state 37\n",
      "accuracy 0.979891724671307 Random_state 38\n",
      "accuracy 0.9775715390564579 Random_state 39\n",
      "accuracy 0.9791183294663574 Random_state 40\n",
      "accuracy 0.974477958236659 Random_state 41\n",
      "accuracy 0.9729311678267595 Random_state 42\n",
      "accuracy 0.9775715390564579 Random_state 43\n",
      "accuracy 0.9698375870069605 Random_state 44\n",
      "accuracy 0.9752513534416086 Random_state 45\n",
      "accuracy 0.9682907965970611 Random_state 46\n",
      "accuracy 0.9775715390564579 Random_state 47\n",
      "accuracy 0.9690641918020109 Random_state 48\n",
      "accuracy 0.9698375870069605 Random_state 49\n",
      "accuracy 0.9729311678267595 Random_state 50\n",
      "accuracy 0.9721577726218097 Random_state 51\n",
      "accuracy 0.9729311678267595 Random_state 52\n",
      "accuracy 0.974477958236659 Random_state 53\n",
      "accuracy 0.9752513534416086 Random_state 54\n",
      "accuracy 0.9737045630317092 Random_state 55\n",
      "accuracy 0.9729311678267595 Random_state 56\n",
      "accuracy 0.9752513534416086 Random_state 57\n",
      "accuracy 0.9690641918020109 Random_state 58\n",
      "accuracy 0.9659706109822119 Random_state 59\n",
      "accuracy 0.9698375870069605 Random_state 60\n",
      "accuracy 0.9675174013921114 Random_state 61\n",
      "accuracy 0.9721577726218097 Random_state 62\n",
      "accuracy 0.97138437741686 Random_state 63\n",
      "accuracy 0.9806651198762568 Random_state 64\n",
      "accuracy 0.9706109822119103 Random_state 65\n",
      "accuracy 0.9721577726218097 Random_state 66\n",
      "accuracy 0.9737045630317092 Random_state 67\n",
      "accuracy 0.9775715390564579 Random_state 68\n",
      "accuracy 0.974477958236659 Random_state 69\n",
      "accuracy 0.9775715390564579 Random_state 70\n",
      "accuracy 0.9752513534416086 Random_state 71\n",
      "accuracy 0.97138437741686 Random_state 72\n",
      "accuracy 0.974477958236659 Random_state 73\n",
      "accuracy 0.9706109822119103 Random_state 74\n",
      "accuracy 0.9791183294663574 Random_state 75\n",
      "accuracy 0.974477958236659 Random_state 76\n",
      "accuracy 0.9698375870069605 Random_state 77\n",
      "accuracy 0.9737045630317092 Random_state 78\n",
      "accuracy 0.974477958236659 Random_state 79\n",
      "accuracy 0.974477958236659 Random_state 80\n",
      "accuracy 0.9760247486465584 Random_state 81\n",
      "accuracy 0.9729311678267595 Random_state 82\n",
      "accuracy 0.974477958236659 Random_state 83\n",
      "accuracy 0.9791183294663574 Random_state 84\n",
      "accuracy 0.9752513534416086 Random_state 85\n",
      "accuracy 0.9698375870069605 Random_state 86\n",
      "accuracy 0.9698375870069605 Random_state 87\n",
      "accuracy 0.9729311678267595 Random_state 88\n",
      "accuracy 0.9760247486465584 Random_state 89\n",
      "accuracy 0.9752513534416086 Random_state 90\n",
      "accuracy 0.9737045630317092 Random_state 91\n",
      "accuracy 0.9729311678267595 Random_state 92\n",
      "accuracy 0.9729311678267595 Random_state 93\n",
      "accuracy 0.9729311678267595 Random_state 94\n",
      "accuracy 0.9721577726218097 Random_state 95\n",
      "accuracy 0.9760247486465584 Random_state 96\n",
      "accuracy 0.9760247486465584 Random_state 97\n",
      "accuracy 0.9721577726218097 Random_state 98\n",
      "accuracy 0.9760247486465584 Random_state 99\n"
     ]
    }
   ],
   "source": [
    "maxAccu =0 # Checking the highest test accuracy with range of random_state from 1-100\n",
    "maxRS= 0\n",
    "\n",
    "for i in range(1,100):\n",
    "    x_train,x_test,y_train,y_test = train_test_split(X,Y,test_size = 0.25,random_state = i)\n",
    "    mnb = MultinomialNB()\n",
    "    mnb.fit(x_train,y_train)\n",
    "    y_pred=mnb.predict(x_test)\n",
    "    acc=accuracy_score(y_test, y_pred)\n",
    "    print('accuracy', acc,'Random_state',i)\n",
    "    \n",
    "    if acc>maxAccu:\n",
    "        maxAccu=acc\n",
    "        maxRS=i\n",
    "        print('max_accuracy', maxAccu,'max_Random_state',i)"
   ]
  },
  {
   "cell_type": "code",
   "execution_count": 95,
   "id": "5878480a",
   "metadata": {},
   "outputs": [],
   "source": [
    "x_train,x_test,y_train,y_test = train_test_split(X,Y,test_size = 0.25,random_state = 36)"
   ]
  },
  {
   "cell_type": "code",
   "execution_count": 96,
   "id": "f5dab8c8",
   "metadata": {},
   "outputs": [
    {
     "name": "stdout",
     "output_type": "stream",
     "text": [
      "\n",
      "===============Train Result===============\n",
      "Accuracy Score: 99.05%\n",
      "\n",
      "===============Test Result===============\n",
      "Accuracy Score: 98.14%\n",
      "\n",
      " \n",
      " Test Classification Report \n",
      "               precision    recall  f1-score   support\n",
      "\n",
      "           0       0.99      0.98      0.99      1133\n",
      "           1       0.90      0.96      0.93       160\n",
      "\n",
      "    accuracy                           0.98      1293\n",
      "   macro avg       0.94      0.97      0.96      1293\n",
      "weighted avg       0.98      0.98      0.98      1293\n",
      "\n",
      "\n",
      "=========================================\n",
      "\n",
      "confusion Matrix- \n",
      " [[1115   18]\n",
      " [   6  154]]\n",
      "\n",
      "=========================================\n"
     ]
    }
   ],
   "source": [
    "mnb = MultinomialNB() \n",
    "mnb.fit(x_train,y_train)\n",
    "\n",
    "print_score(mnb,x_train,x_test,y_train,y_test, train=True)\n",
    "print_score(mnb,x_train,x_test,y_train,y_test, train=False)"
   ]
  },
  {
   "cell_type": "markdown",
   "id": "788313b7",
   "metadata": {},
   "source": [
    "## BernoulliNB"
   ]
  },
  {
   "cell_type": "code",
   "execution_count": 97,
   "id": "7d0d6e17",
   "metadata": {
    "scrolled": true
   },
   "outputs": [
    {
     "name": "stdout",
     "output_type": "stream",
     "text": [
      "accuracy 0.9582366589327146 Random_state 1\n",
      "max_accuracy 0.9582366589327146 max_Random_state 1\n",
      "accuracy 0.9698375870069605 Random_state 2\n",
      "max_accuracy 0.9698375870069605 max_Random_state 2\n",
      "accuracy 0.9659706109822119 Random_state 3\n",
      "accuracy 0.97138437741686 Random_state 4\n",
      "max_accuracy 0.97138437741686 max_Random_state 4\n",
      "accuracy 0.9636504253673627 Random_state 5\n",
      "accuracy 0.9721577726218097 Random_state 6\n",
      "max_accuracy 0.9721577726218097 max_Random_state 6\n",
      "accuracy 0.9682907965970611 Random_state 7\n",
      "accuracy 0.9621036349574633 Random_state 8\n",
      "accuracy 0.9644238205723125 Random_state 9\n",
      "accuracy 0.962877030162413 Random_state 10\n",
      "accuracy 0.9667440061871616 Random_state 11\n",
      "accuracy 0.9690641918020109 Random_state 12\n",
      "accuracy 0.9667440061871616 Random_state 13\n",
      "accuracy 0.97138437741686 Random_state 14\n",
      "accuracy 0.9667440061871616 Random_state 15\n",
      "accuracy 0.9621036349574633 Random_state 16\n",
      "accuracy 0.97138437741686 Random_state 17\n",
      "accuracy 0.9690641918020109 Random_state 18\n",
      "accuracy 0.9682907965970611 Random_state 19\n",
      "accuracy 0.97138437741686 Random_state 20\n",
      "accuracy 0.9644238205723125 Random_state 21\n",
      "accuracy 0.9698375870069605 Random_state 22\n",
      "accuracy 0.9737045630317092 Random_state 23\n",
      "max_accuracy 0.9737045630317092 max_Random_state 23\n",
      "accuracy 0.97138437741686 Random_state 24\n",
      "accuracy 0.9621036349574633 Random_state 25\n",
      "accuracy 0.974477958236659 Random_state 26\n",
      "max_accuracy 0.974477958236659 max_Random_state 26\n",
      "accuracy 0.9721577726218097 Random_state 27\n",
      "accuracy 0.9690641918020109 Random_state 28\n",
      "accuracy 0.9706109822119103 Random_state 29\n",
      "accuracy 0.9667440061871616 Random_state 30\n",
      "accuracy 0.9698375870069605 Random_state 31\n",
      "accuracy 0.9775715390564579 Random_state 32\n",
      "max_accuracy 0.9775715390564579 max_Random_state 32\n",
      "accuracy 0.974477958236659 Random_state 33\n",
      "accuracy 0.9675174013921114 Random_state 34\n",
      "accuracy 0.9706109822119103 Random_state 35\n",
      "accuracy 0.9721577726218097 Random_state 36\n",
      "accuracy 0.9621036349574633 Random_state 37\n",
      "accuracy 0.9721577726218097 Random_state 38\n",
      "accuracy 0.9729311678267595 Random_state 39\n",
      "accuracy 0.9729311678267595 Random_state 40\n",
      "accuracy 0.9752513534416086 Random_state 41\n",
      "accuracy 0.9651972157772621 Random_state 42\n",
      "accuracy 0.9613302397525135 Random_state 43\n",
      "accuracy 0.9682907965970611 Random_state 44\n",
      "accuracy 0.9752513534416086 Random_state 45\n",
      "accuracy 0.962877030162413 Random_state 46\n",
      "accuracy 0.9806651198762568 Random_state 47\n",
      "max_accuracy 0.9806651198762568 max_Random_state 47\n",
      "accuracy 0.9659706109822119 Random_state 48\n",
      "accuracy 0.9667440061871616 Random_state 49\n",
      "accuracy 0.9682907965970611 Random_state 50\n",
      "accuracy 0.9651972157772621 Random_state 51\n",
      "accuracy 0.9613302397525135 Random_state 52\n",
      "accuracy 0.9682907965970611 Random_state 53\n",
      "accuracy 0.9706109822119103 Random_state 54\n",
      "accuracy 0.9613302397525135 Random_state 55\n",
      "accuracy 0.9729311678267595 Random_state 56\n",
      "accuracy 0.9613302397525135 Random_state 57\n",
      "accuracy 0.9613302397525135 Random_state 58\n",
      "accuracy 0.9651972157772621 Random_state 59\n",
      "accuracy 0.9644238205723125 Random_state 60\n",
      "accuracy 0.9659706109822119 Random_state 61\n",
      "accuracy 0.9690641918020109 Random_state 62\n",
      "accuracy 0.9659706109822119 Random_state 63\n",
      "accuracy 0.9706109822119103 Random_state 64\n",
      "accuracy 0.9605568445475638 Random_state 65\n",
      "accuracy 0.9605568445475638 Random_state 66\n",
      "accuracy 0.9698375870069605 Random_state 67\n",
      "accuracy 0.9651972157772621 Random_state 68\n",
      "accuracy 0.9675174013921114 Random_state 69\n",
      "accuracy 0.9721577726218097 Random_state 70\n",
      "accuracy 0.9682907965970611 Random_state 71\n",
      "accuracy 0.9651972157772621 Random_state 72\n",
      "accuracy 0.9706109822119103 Random_state 73\n",
      "accuracy 0.9651972157772621 Random_state 74\n",
      "accuracy 0.9729311678267595 Random_state 75\n",
      "accuracy 0.9690641918020109 Random_state 76\n",
      "accuracy 0.9667440061871616 Random_state 77\n",
      "accuracy 0.9729311678267595 Random_state 78\n",
      "accuracy 0.9721577726218097 Random_state 79\n",
      "accuracy 0.9636504253673627 Random_state 80\n",
      "accuracy 0.9682907965970611 Random_state 81\n",
      "accuracy 0.9636504253673627 Random_state 82\n",
      "accuracy 0.9613302397525135 Random_state 83\n",
      "accuracy 0.9729311678267595 Random_state 84\n",
      "accuracy 0.97138437741686 Random_state 85\n",
      "accuracy 0.9605568445475638 Random_state 86\n",
      "accuracy 0.9729311678267595 Random_state 87\n",
      "accuracy 0.9682907965970611 Random_state 88\n",
      "accuracy 0.9659706109822119 Random_state 89\n",
      "accuracy 0.9644238205723125 Random_state 90\n",
      "accuracy 0.9636504253673627 Random_state 91\n",
      "accuracy 0.9621036349574633 Random_state 92\n",
      "accuracy 0.962877030162413 Random_state 93\n",
      "accuracy 0.9644238205723125 Random_state 94\n",
      "accuracy 0.9706109822119103 Random_state 95\n",
      "accuracy 0.962877030162413 Random_state 96\n",
      "accuracy 0.9682907965970611 Random_state 97\n",
      "accuracy 0.9659706109822119 Random_state 98\n",
      "accuracy 0.9721577726218097 Random_state 99\n"
     ]
    }
   ],
   "source": [
    "maxAccu =0 \n",
    "maxRS= 0\n",
    "\n",
    "for i in range(1,100):\n",
    "    x_train,x_test,y_train,y_test = train_test_split(X,Y,test_size = 0.25,random_state = i)\n",
    "    bnb = BernoulliNB()\n",
    "    bnb.fit(x_train,y_train)\n",
    "    y_pred=bnb.predict(x_test)\n",
    "    acc=accuracy_score(y_test, y_pred)\n",
    "    print('accuracy', acc,'Random_state',i)\n",
    "    \n",
    "    if acc>maxAccu:\n",
    "        maxAccu=acc\n",
    "        maxRS=i\n",
    "        print('max_accuracy', maxAccu,'max_Random_state',i)"
   ]
  },
  {
   "cell_type": "code",
   "execution_count": 98,
   "id": "6e8c8c0e",
   "metadata": {},
   "outputs": [],
   "source": [
    "x_train,x_test,y_train,y_test = train_test_split(X,Y,test_size = 0.25,random_state = 47)"
   ]
  },
  {
   "cell_type": "code",
   "execution_count": 99,
   "id": "d836b12b",
   "metadata": {},
   "outputs": [
    {
     "name": "stdout",
     "output_type": "stream",
     "text": [
      "\n",
      "===============Train Result===============\n",
      "Accuracy Score: 97.55%\n",
      "\n",
      "===============Test Result===============\n",
      "Accuracy Score: 98.07%\n",
      "\n",
      " \n",
      " Test Classification Report \n",
      "               precision    recall  f1-score   support\n",
      "\n",
      "           0       0.98      0.99      0.99      1152\n",
      "           1       0.95      0.87      0.91       141\n",
      "\n",
      "    accuracy                           0.98      1293\n",
      "   macro avg       0.97      0.93      0.95      1293\n",
      "weighted avg       0.98      0.98      0.98      1293\n",
      "\n",
      "\n",
      "=========================================\n",
      "\n",
      "confusion Matrix- \n",
      " [[1146    6]\n",
      " [  19  122]]\n",
      "\n",
      "=========================================\n"
     ]
    }
   ],
   "source": [
    "bnb = BernoulliNB()\n",
    "bnb.fit(x_train,y_train)\n",
    "\n",
    "print_score(bnb,x_train,x_test,y_train,y_test, train=True)\n",
    "print_score(bnb,x_train,x_test,y_train,y_test, train=False)"
   ]
  },
  {
   "cell_type": "markdown",
   "id": "6392a8b8",
   "metadata": {},
   "source": [
    "## LogisticRegression"
   ]
  },
  {
   "cell_type": "code",
   "execution_count": 100,
   "id": "e5b55737",
   "metadata": {
    "scrolled": true
   },
   "outputs": [
    {
     "name": "stdout",
     "output_type": "stream",
     "text": [
      "accuracy 0.9706109822119103 Random_state 1\n",
      "max_accuracy 0.9706109822119103 max_Random_state 1\n",
      "accuracy 0.9783449342614076 Random_state 2\n",
      "max_accuracy 0.9783449342614076 max_Random_state 2\n",
      "accuracy 0.9706109822119103 Random_state 3\n",
      "accuracy 0.9814385150812065 Random_state 4\n",
      "max_accuracy 0.9814385150812065 max_Random_state 4\n",
      "accuracy 0.974477958236659 Random_state 5\n",
      "accuracy 0.9767981438515081 Random_state 6\n",
      "accuracy 0.97138437741686 Random_state 7\n",
      "accuracy 0.9737045630317092 Random_state 8\n",
      "accuracy 0.9667440061871616 Random_state 9\n",
      "accuracy 0.9775715390564579 Random_state 10\n",
      "accuracy 0.9721577726218097 Random_state 11\n",
      "accuracy 0.9791183294663574 Random_state 12\n",
      "accuracy 0.9752513534416086 Random_state 13\n",
      "accuracy 0.982985305491106 Random_state 14\n",
      "max_accuracy 0.982985305491106 max_Random_state 14\n",
      "accuracy 0.9706109822119103 Random_state 15\n",
      "accuracy 0.97138437741686 Random_state 16\n",
      "accuracy 0.979891724671307 Random_state 17\n",
      "accuracy 0.9752513534416086 Random_state 18\n",
      "accuracy 0.9760247486465584 Random_state 19\n",
      "accuracy 0.9752513534416086 Random_state 20\n",
      "accuracy 0.9698375870069605 Random_state 21\n",
      "accuracy 0.9729311678267595 Random_state 22\n",
      "accuracy 0.9760247486465584 Random_state 23\n",
      "accuracy 0.9752513534416086 Random_state 24\n",
      "accuracy 0.9729311678267595 Random_state 25\n",
      "accuracy 0.9806651198762568 Random_state 26\n",
      "accuracy 0.9752513534416086 Random_state 27\n",
      "accuracy 0.9806651198762568 Random_state 28\n",
      "accuracy 0.9775715390564579 Random_state 29\n",
      "accuracy 0.9729311678267595 Random_state 30\n",
      "accuracy 0.979891724671307 Random_state 31\n",
      "accuracy 0.9791183294663574 Random_state 32\n",
      "accuracy 0.9783449342614076 Random_state 33\n",
      "accuracy 0.974477958236659 Random_state 34\n",
      "accuracy 0.9760247486465584 Random_state 35\n",
      "accuracy 0.9837587006960556 Random_state 36\n",
      "max_accuracy 0.9837587006960556 max_Random_state 36\n",
      "accuracy 0.9706109822119103 Random_state 37\n",
      "accuracy 0.9721577726218097 Random_state 38\n",
      "accuracy 0.974477958236659 Random_state 39\n",
      "accuracy 0.9791183294663574 Random_state 40\n",
      "accuracy 0.9814385150812065 Random_state 41\n",
      "accuracy 0.9791183294663574 Random_state 42\n",
      "accuracy 0.9651972157772621 Random_state 43\n",
      "accuracy 0.9737045630317092 Random_state 44\n",
      "accuracy 0.9767981438515081 Random_state 45\n",
      "accuracy 0.9698375870069605 Random_state 46\n",
      "accuracy 0.9868522815158546 Random_state 47\n",
      "max_accuracy 0.9868522815158546 max_Random_state 47\n",
      "accuracy 0.9752513534416086 Random_state 48\n",
      "accuracy 0.9752513534416086 Random_state 49\n",
      "accuracy 0.9775715390564579 Random_state 50\n",
      "accuracy 0.9783449342614076 Random_state 51\n",
      "accuracy 0.9760247486465584 Random_state 52\n",
      "accuracy 0.9775715390564579 Random_state 53\n",
      "accuracy 0.9783449342614076 Random_state 54\n",
      "accuracy 0.9721577726218097 Random_state 55\n",
      "accuracy 0.9706109822119103 Random_state 56\n",
      "accuracy 0.9729311678267595 Random_state 57\n",
      "accuracy 0.9682907965970611 Random_state 58\n",
      "accuracy 0.9814385150812065 Random_state 59\n",
      "accuracy 0.9729311678267595 Random_state 60\n",
      "accuracy 0.9752513534416086 Random_state 61\n",
      "accuracy 0.9783449342614076 Random_state 62\n",
      "accuracy 0.9752513534416086 Random_state 63\n",
      "accuracy 0.974477958236659 Random_state 64\n",
      "accuracy 0.9729311678267595 Random_state 65\n",
      "accuracy 0.9721577726218097 Random_state 66\n",
      "accuracy 0.9760247486465584 Random_state 67\n",
      "accuracy 0.9767981438515081 Random_state 68\n",
      "accuracy 0.979891724671307 Random_state 69\n",
      "accuracy 0.9853054911059551 Random_state 70\n",
      "accuracy 0.9783449342614076 Random_state 71\n",
      "accuracy 0.9767981438515081 Random_state 72\n",
      "accuracy 0.9814385150812065 Random_state 73\n",
      "accuracy 0.9698375870069605 Random_state 74\n",
      "accuracy 0.982985305491106 Random_state 75\n",
      "accuracy 0.979891724671307 Random_state 76\n",
      "accuracy 0.9667440061871616 Random_state 77\n",
      "accuracy 0.9752513534416086 Random_state 78\n",
      "accuracy 0.9721577726218097 Random_state 79\n",
      "accuracy 0.9752513534416086 Random_state 80\n",
      "accuracy 0.9729311678267595 Random_state 81\n",
      "accuracy 0.97138437741686 Random_state 82\n",
      "accuracy 0.9729311678267595 Random_state 83\n",
      "accuracy 0.9814385150812065 Random_state 84\n",
      "accuracy 0.974477958236659 Random_state 85\n",
      "accuracy 0.9767981438515081 Random_state 86\n",
      "accuracy 0.9760247486465584 Random_state 87\n",
      "accuracy 0.9737045630317092 Random_state 88\n",
      "accuracy 0.9767981438515081 Random_state 89\n",
      "accuracy 0.9737045630317092 Random_state 90\n",
      "accuracy 0.97138437741686 Random_state 91\n",
      "accuracy 0.9752513534416086 Random_state 92\n",
      "accuracy 0.9706109822119103 Random_state 93\n",
      "accuracy 0.9729311678267595 Random_state 94\n",
      "accuracy 0.979891724671307 Random_state 95\n",
      "accuracy 0.9706109822119103 Random_state 96\n",
      "accuracy 0.9760247486465584 Random_state 97\n",
      "accuracy 0.9767981438515081 Random_state 98\n",
      "accuracy 0.9775715390564579 Random_state 99\n"
     ]
    }
   ],
   "source": [
    "maxAccu =0 \n",
    "maxRS= 0\n",
    "\n",
    "for i in range(1,100):\n",
    "    x_train,x_test,y_train,y_test = train_test_split(X,Y,test_size = 0.25,random_state = i)\n",
    "    log = LogisticRegression()\n",
    "    log.fit(x_train,y_train)\n",
    "    y_pred=log.predict(x_test)\n",
    "    acc=accuracy_score(y_test, y_pred)\n",
    "    print('accuracy', acc,'Random_state',i)\n",
    "    \n",
    "    if acc>maxAccu:\n",
    "        maxAccu=acc\n",
    "        maxRS=i\n",
    "        print('max_accuracy', maxAccu,'max_Random_state',i)"
   ]
  },
  {
   "cell_type": "code",
   "execution_count": 101,
   "id": "327832bd",
   "metadata": {},
   "outputs": [],
   "source": [
    "x_train,x_test,y_train,y_test = train_test_split(X,Y,test_size = 0.25,random_state = 47)"
   ]
  },
  {
   "cell_type": "code",
   "execution_count": 102,
   "id": "d65b1daf",
   "metadata": {},
   "outputs": [
    {
     "name": "stdout",
     "output_type": "stream",
     "text": [
      "\n",
      "===============Train Result===============\n",
      "Accuracy Score: 99.43%\n",
      "\n",
      "===============Test Result===============\n",
      "Accuracy Score: 98.69%\n",
      "\n",
      " \n",
      " Test Classification Report \n",
      "               precision    recall  f1-score   support\n",
      "\n",
      "           0       0.99      1.00      0.99      1152\n",
      "           1       0.98      0.90      0.94       141\n",
      "\n",
      "    accuracy                           0.99      1293\n",
      "   macro avg       0.98      0.95      0.96      1293\n",
      "weighted avg       0.99      0.99      0.99      1293\n",
      "\n",
      "\n",
      "=========================================\n",
      "\n",
      "confusion Matrix- \n",
      " [[1149    3]\n",
      " [  14  127]]\n",
      "\n",
      "=========================================\n"
     ]
    }
   ],
   "source": [
    "log = LogisticRegression()\n",
    "log.fit(x_train,y_train)\n",
    "\n",
    "print_score(log,x_train,x_test,y_train,y_test, train=True)\n",
    "print_score(log,x_train,x_test,y_train,y_test, train=False)"
   ]
  },
  {
   "cell_type": "markdown",
   "id": "cc8a3412",
   "metadata": {},
   "source": [
    "## KNeighborsClassifier"
   ]
  },
  {
   "cell_type": "code",
   "execution_count": 103,
   "id": "76ee7c6e",
   "metadata": {
    "scrolled": true
   },
   "outputs": [
    {
     "name": "stdout",
     "output_type": "stream",
     "text": [
      "accuracy 0.9017788089713844 Random_state 1\n",
      "max_accuracy 0.9017788089713844 max_Random_state 1\n",
      "accuracy 0.9110595514307811 Random_state 2\n",
      "max_accuracy 0.9110595514307811 max_Random_state 2\n",
      "accuracy 0.9017788089713844 Random_state 3\n",
      "accuracy 0.917246713070379 Random_state 4\n",
      "max_accuracy 0.917246713070379 max_Random_state 4\n",
      "accuracy 0.9064191802010828 Random_state 5\n",
      "accuracy 0.917246713070379 Random_state 6\n",
      "accuracy 0.9040989945862336 Random_state 7\n",
      "accuracy 0.9102861562258314 Random_state 8\n",
      "accuracy 0.9025522041763341 Random_state 9\n",
      "accuracy 0.9071925754060325 Random_state 10\n",
      "accuracy 0.9095127610208816 Random_state 11\n",
      "accuracy 0.9079659706109822 Random_state 12\n",
      "accuracy 0.9110595514307811 Random_state 13\n",
      "accuracy 0.9187935034802784 Random_state 14\n",
      "max_accuracy 0.9187935034802784 max_Random_state 14\n",
      "accuracy 0.9048723897911833 Random_state 15\n",
      "accuracy 0.8955916473317865 Random_state 16\n",
      "accuracy 0.9203402938901779 Random_state 17\n",
      "max_accuracy 0.9203402938901779 max_Random_state 17\n",
      "accuracy 0.9133797370456304 Random_state 18\n",
      "accuracy 0.9187935034802784 Random_state 19\n",
      "accuracy 0.9025522041763341 Random_state 20\n",
      "accuracy 0.9118329466357309 Random_state 21\n",
      "accuracy 0.9102861562258314 Random_state 22\n",
      "accuracy 0.9156999226604795 Random_state 23\n",
      "accuracy 0.9211136890951276 Random_state 24\n",
      "max_accuracy 0.9211136890951276 max_Random_state 24\n",
      "accuracy 0.8901778808971385 Random_state 25\n",
      "accuracy 0.9079659706109822 Random_state 26\n",
      "accuracy 0.9164733178654292 Random_state 27\n",
      "accuracy 0.9195668986852281 Random_state 28\n",
      "accuracy 0.917246713070379 Random_state 29\n",
      "accuracy 0.9017788089713844 Random_state 30\n",
      "accuracy 0.9156999226604795 Random_state 31\n",
      "accuracy 0.9203402938901779 Random_state 32\n",
      "accuracy 0.9118329466357309 Random_state 33\n",
      "accuracy 0.9033255993812839 Random_state 34\n",
      "accuracy 0.9110595514307811 Random_state 35\n",
      "accuracy 0.9110595514307811 Random_state 36\n",
      "accuracy 0.9126063418406806 Random_state 37\n",
      "accuracy 0.9017788089713844 Random_state 38\n",
      "accuracy 0.9242072699149265 Random_state 39\n",
      "max_accuracy 0.9242072699149265 max_Random_state 39\n",
      "accuracy 0.9234338747099768 Random_state 40\n",
      "accuracy 0.9118329466357309 Random_state 41\n",
      "accuracy 0.897138437741686 Random_state 42\n",
      "accuracy 0.9079659706109822 Random_state 43\n",
      "accuracy 0.9071925754060325 Random_state 44\n",
      "accuracy 0.9149265274555298 Random_state 45\n",
      "accuracy 0.9195668986852281 Random_state 46\n",
      "accuracy 0.9249806651198763 Random_state 47\n",
      "max_accuracy 0.9249806651198763 max_Random_state 47\n",
      "accuracy 0.9110595514307811 Random_state 48\n",
      "accuracy 0.9048723897911833 Random_state 49\n",
      "accuracy 0.9079659706109822 Random_state 50\n",
      "accuracy 0.9118329466357309 Random_state 51\n",
      "accuracy 0.905645784996133 Random_state 52\n",
      "accuracy 0.905645784996133 Random_state 53\n",
      "accuracy 0.9071925754060325 Random_state 54\n",
      "accuracy 0.9126063418406806 Random_state 55\n",
      "accuracy 0.9102861562258314 Random_state 56\n",
      "accuracy 0.9064191802010828 Random_state 57\n",
      "accuracy 0.9064191802010828 Random_state 58\n",
      "accuracy 0.905645784996133 Random_state 59\n",
      "accuracy 0.908739365815932 Random_state 60\n",
      "accuracy 0.9164733178654292 Random_state 61\n",
      "accuracy 0.9211136890951276 Random_state 62\n",
      "accuracy 0.9211136890951276 Random_state 63\n",
      "accuracy 0.917246713070379 Random_state 64\n",
      "accuracy 0.9126063418406806 Random_state 65\n",
      "accuracy 0.9048723897911833 Random_state 66\n",
      "accuracy 0.9033255993812839 Random_state 67\n",
      "accuracy 0.9040989945862336 Random_state 68\n",
      "accuracy 0.9149265274555298 Random_state 69\n",
      "accuracy 0.9025522041763341 Random_state 70\n",
      "accuracy 0.917246713070379 Random_state 71\n",
      "accuracy 0.9156999226604795 Random_state 72\n",
      "accuracy 0.9156999226604795 Random_state 73\n",
      "accuracy 0.9071925754060325 Random_state 74\n",
      "accuracy 0.9149265274555298 Random_state 75\n",
      "accuracy 0.9079659706109822 Random_state 76\n",
      "accuracy 0.9002320185614849 Random_state 77\n",
      "accuracy 0.908739365815932 Random_state 78\n",
      "accuracy 0.8963650425367363 Random_state 79\n",
      "accuracy 0.9040989945862336 Random_state 80\n",
      "accuracy 0.9102861562258314 Random_state 81\n",
      "accuracy 0.9110595514307811 Random_state 82\n",
      "accuracy 0.9118329466357309 Random_state 83\n",
      "accuracy 0.9126063418406806 Random_state 84\n",
      "accuracy 0.91415313225058 Random_state 85\n",
      "accuracy 0.9040989945862336 Random_state 86\n",
      "accuracy 0.9133797370456304 Random_state 87\n",
      "accuracy 0.9040989945862336 Random_state 88\n",
      "accuracy 0.9064191802010828 Random_state 89\n",
      "accuracy 0.8986852281515855 Random_state 90\n",
      "accuracy 0.9079659706109822 Random_state 91\n",
      "accuracy 0.9079659706109822 Random_state 92\n",
      "accuracy 0.9071925754060325 Random_state 93\n",
      "accuracy 0.9118329466357309 Random_state 94\n",
      "accuracy 0.9187935034802784 Random_state 95\n",
      "accuracy 0.9017788089713844 Random_state 96\n",
      "accuracy 0.908739365815932 Random_state 97\n",
      "accuracy 0.9025522041763341 Random_state 98\n",
      "accuracy 0.9033255993812839 Random_state 99\n"
     ]
    }
   ],
   "source": [
    "maxAccu =0 \n",
    "maxRS= 0\n",
    "\n",
    "for i in range(1,100):\n",
    "    x_train,x_test,y_train,y_test = train_test_split(X,Y,test_size = 0.25,random_state = i)\n",
    "    knn = KNeighborsClassifier()\n",
    "    knn.fit(x_train,y_train)\n",
    "    y_pred=knn.predict(x_test)\n",
    "    acc=accuracy_score(y_test, y_pred)\n",
    "    print('accuracy', acc,'Random_state',i)\n",
    "    \n",
    "    if acc>maxAccu:\n",
    "        maxAccu=acc\n",
    "        maxRS=i\n",
    "        print('max_accuracy', maxAccu,'max_Random_state',i)"
   ]
  },
  {
   "cell_type": "code",
   "execution_count": 104,
   "id": "f6fe6378",
   "metadata": {},
   "outputs": [],
   "source": [
    "x_train,x_test,y_train,y_test = train_test_split(X,Y,test_size = 0.25,random_state = 47)"
   ]
  },
  {
   "cell_type": "code",
   "execution_count": 105,
   "id": "9904fb24",
   "metadata": {},
   "outputs": [
    {
     "name": "stdout",
     "output_type": "stream",
     "text": [
      "\n",
      "===============Train Result===============\n",
      "Accuracy Score: 92.03%\n",
      "\n",
      "===============Test Result===============\n",
      "Accuracy Score: 92.50%\n",
      "\n",
      " \n",
      " Test Classification Report \n",
      "               precision    recall  f1-score   support\n",
      "\n",
      "           0       0.92      1.00      0.96      1152\n",
      "           1       1.00      0.31      0.48       141\n",
      "\n",
      "    accuracy                           0.92      1293\n",
      "   macro avg       0.96      0.66      0.72      1293\n",
      "weighted avg       0.93      0.92      0.91      1293\n",
      "\n",
      "\n",
      "=========================================\n",
      "\n",
      "confusion Matrix- \n",
      " [[1152    0]\n",
      " [  97   44]]\n",
      "\n",
      "=========================================\n"
     ]
    }
   ],
   "source": [
    "knn = KNeighborsClassifier()\n",
    "knn.fit(x_train,y_train)\n",
    "\n",
    "print_score(knn,x_train,x_test,y_train,y_test, train=True)\n",
    "print_score(knn,x_train,x_test,y_train,y_test, train=False)"
   ]
  },
  {
   "cell_type": "markdown",
   "id": "365fd085",
   "metadata": {},
   "source": [
    "## GradientBoostingClassifier"
   ]
  },
  {
   "cell_type": "code",
   "execution_count": 106,
   "id": "c8ddaa33",
   "metadata": {},
   "outputs": [
    {
     "name": "stdout",
     "output_type": "stream",
     "text": [
      "\n",
      "===============Train Result===============\n",
      "Accuracy Score: 97.57%\n",
      "\n",
      "===============Test Result===============\n",
      "Accuracy Score: 96.44%\n",
      "\n",
      " \n",
      " Test Classification Report \n",
      "               precision    recall  f1-score   support\n",
      "\n",
      "           0       0.97      0.99      0.98      1152\n",
      "           1       0.92      0.74      0.82       141\n",
      "\n",
      "    accuracy                           0.96      1293\n",
      "   macro avg       0.94      0.86      0.90      1293\n",
      "weighted avg       0.96      0.96      0.96      1293\n",
      "\n",
      "\n",
      "=========================================\n",
      "\n",
      "confusion Matrix- \n",
      " [[1143    9]\n",
      " [  37  104]]\n",
      "\n",
      "=========================================\n"
     ]
    }
   ],
   "source": [
    "gbdt = GradientBoostingClassifier()\n",
    "gbdt.fit(x_train,y_train)\n",
    "\n",
    "print_score(gbdt,x_train,x_test,y_train,y_test, train=True)\n",
    "print_score(gbdt,x_train,x_test,y_train,y_test, train=False)"
   ]
  },
  {
   "cell_type": "markdown",
   "id": "adb9b406",
   "metadata": {},
   "source": [
    "## SupportVectorClassifier"
   ]
  },
  {
   "cell_type": "code",
   "execution_count": 107,
   "id": "945ba035",
   "metadata": {},
   "outputs": [
    {
     "name": "stdout",
     "output_type": "stream",
     "text": [
      "\n",
      "===============Train Result===============\n",
      "Accuracy Score: 99.46%\n",
      "\n",
      "===============Test Result===============\n",
      "Accuracy Score: 97.68%\n",
      "\n",
      " \n",
      " Test Classification Report \n",
      "               precision    recall  f1-score   support\n",
      "\n",
      "           0       0.97      1.00      0.99      1152\n",
      "           1       1.00      0.79      0.88       141\n",
      "\n",
      "    accuracy                           0.98      1293\n",
      "   macro avg       0.99      0.89      0.93      1293\n",
      "weighted avg       0.98      0.98      0.98      1293\n",
      "\n",
      "\n",
      "=========================================\n",
      "\n",
      "confusion Matrix- \n",
      " [[1152    0]\n",
      " [  30  111]]\n",
      "\n",
      "=========================================\n"
     ]
    }
   ],
   "source": [
    "svc = SVC()\n",
    "svc.fit(x_train,y_train)\n",
    "\n",
    "print_score(svc,x_train,x_test,y_train,y_test, train=True)\n",
    "print_score(svc,x_train,x_test,y_train,y_test, train=False)"
   ]
  },
  {
   "cell_type": "markdown",
   "id": "b6634a3d",
   "metadata": {},
   "source": [
    "## DecisionTreeClassifier"
   ]
  },
  {
   "cell_type": "code",
   "execution_count": 108,
   "id": "78269514",
   "metadata": {},
   "outputs": [
    {
     "name": "stdout",
     "output_type": "stream",
     "text": [
      "\n",
      "===============Train Result===============\n",
      "Accuracy Score: 100.00%\n",
      "\n",
      "===============Test Result===============\n",
      "Accuracy Score: 96.21%\n",
      "\n",
      " \n",
      " Test Classification Report \n",
      "               precision    recall  f1-score   support\n",
      "\n",
      "           0       0.97      0.98      0.98      1152\n",
      "           1       0.86      0.78      0.82       141\n",
      "\n",
      "    accuracy                           0.96      1293\n",
      "   macro avg       0.92      0.88      0.90      1293\n",
      "weighted avg       0.96      0.96      0.96      1293\n",
      "\n",
      "\n",
      "=========================================\n",
      "\n",
      "confusion Matrix- \n",
      " [[1134   18]\n",
      " [  31  110]]\n",
      "\n",
      "=========================================\n"
     ]
    }
   ],
   "source": [
    "dtc = DecisionTreeClassifier()\n",
    "dtc.fit(x_train,y_train)\n",
    "\n",
    "print_score(dtc,x_train,x_test,y_train,y_test, train=True)\n",
    "print_score(dtc,x_train,x_test,y_train,y_test, train=False)"
   ]
  },
  {
   "cell_type": "markdown",
   "id": "5c6958dc",
   "metadata": {},
   "source": [
    "## RandomForestClassifier"
   ]
  },
  {
   "cell_type": "code",
   "execution_count": 109,
   "id": "132875b4",
   "metadata": {},
   "outputs": [
    {
     "name": "stdout",
     "output_type": "stream",
     "text": [
      "\n",
      "===============Train Result===============\n",
      "Accuracy Score: 100.00%\n",
      "\n",
      "===============Test Result===============\n",
      "Accuracy Score: 97.68%\n",
      "\n",
      " \n",
      " Test Classification Report \n",
      "               precision    recall  f1-score   support\n",
      "\n",
      "           0       0.98      1.00      0.99      1152\n",
      "           1       0.98      0.80      0.88       141\n",
      "\n",
      "    accuracy                           0.98      1293\n",
      "   macro avg       0.98      0.90      0.93      1293\n",
      "weighted avg       0.98      0.98      0.98      1293\n",
      "\n",
      "\n",
      "=========================================\n",
      "\n",
      "confusion Matrix- \n",
      " [[1150    2]\n",
      " [  28  113]]\n",
      "\n",
      "=========================================\n"
     ]
    }
   ],
   "source": [
    "rfc = RandomForestClassifier()\n",
    "rfc.fit(x_train,y_train)\n",
    "\n",
    "print_score(rfc,x_train,x_test,y_train,y_test, train=True)\n",
    "print_score(rfc,x_train,x_test,y_train,y_test, train=False)"
   ]
  },
  {
   "cell_type": "markdown",
   "id": "c53118fb",
   "metadata": {},
   "source": [
    "## Conclusion"
   ]
  },
  {
   "cell_type": "code",
   "execution_count": 110,
   "id": "de8b389a",
   "metadata": {},
   "outputs": [],
   "source": [
    "scores = pd.DataFrame({\n",
    "    'Model_Name':['RandomForestClassifier', 'DecisionTreeClassifier', 'SupportVectorClassifier', 'GradientBoostingClassifier', 'KNeighborsClassifier', 'LogisticRegression', 'BernoulliNB', 'MultinomialNB', 'GaussianNB'],\n",
    "    'Accuracy':[97.68, 96.21, 97.68, 96.44, 92.50, 98.69, 98.07, 98.14, 88.63],\n",
    "    'Precision_Score':[0.98, 0.86, 1.00, 0.92, 1.00, 0.98, 0.95, 0.90, 0.52],\n",
    "    'Confusion_Matrix_FP':[2, 18, 0, 9, 0, 3, 6, 18, 130]\n",
    "})"
   ]
  },
  {
   "cell_type": "code",
   "execution_count": 116,
   "id": "1a30be7d",
   "metadata": {},
   "outputs": [
    {
     "data": {
      "text/html": [
       "<div>\n",
       "<style scoped>\n",
       "    .dataframe tbody tr th:only-of-type {\n",
       "        vertical-align: middle;\n",
       "    }\n",
       "\n",
       "    .dataframe tbody tr th {\n",
       "        vertical-align: top;\n",
       "    }\n",
       "\n",
       "    .dataframe thead th {\n",
       "        text-align: right;\n",
       "    }\n",
       "</style>\n",
       "<table border=\"1\" class=\"dataframe\">\n",
       "  <thead>\n",
       "    <tr style=\"text-align: right;\">\n",
       "      <th></th>\n",
       "      <th>Model_Name</th>\n",
       "      <th>Accuracy</th>\n",
       "      <th>Precision_Score</th>\n",
       "      <th>Confusion_Matrix_FP</th>\n",
       "    </tr>\n",
       "  </thead>\n",
       "  <tbody>\n",
       "    <tr>\n",
       "      <th>2</th>\n",
       "      <td>SupportVectorClassifier</td>\n",
       "      <td>97.68</td>\n",
       "      <td>1.00</td>\n",
       "      <td>0</td>\n",
       "    </tr>\n",
       "    <tr>\n",
       "      <th>4</th>\n",
       "      <td>KNeighborsClassifier</td>\n",
       "      <td>92.50</td>\n",
       "      <td>1.00</td>\n",
       "      <td>0</td>\n",
       "    </tr>\n",
       "    <tr>\n",
       "      <th>0</th>\n",
       "      <td>RandomForestClassifier</td>\n",
       "      <td>97.68</td>\n",
       "      <td>0.98</td>\n",
       "      <td>2</td>\n",
       "    </tr>\n",
       "    <tr>\n",
       "      <th>5</th>\n",
       "      <td>LogisticRegression</td>\n",
       "      <td>98.69</td>\n",
       "      <td>0.98</td>\n",
       "      <td>3</td>\n",
       "    </tr>\n",
       "    <tr>\n",
       "      <th>6</th>\n",
       "      <td>BernoulliNB</td>\n",
       "      <td>98.07</td>\n",
       "      <td>0.95</td>\n",
       "      <td>6</td>\n",
       "    </tr>\n",
       "    <tr>\n",
       "      <th>3</th>\n",
       "      <td>GradientBoostingClassifier</td>\n",
       "      <td>96.44</td>\n",
       "      <td>0.92</td>\n",
       "      <td>9</td>\n",
       "    </tr>\n",
       "    <tr>\n",
       "      <th>7</th>\n",
       "      <td>MultinomialNB</td>\n",
       "      <td>98.14</td>\n",
       "      <td>0.90</td>\n",
       "      <td>18</td>\n",
       "    </tr>\n",
       "    <tr>\n",
       "      <th>1</th>\n",
       "      <td>DecisionTreeClassifier</td>\n",
       "      <td>96.21</td>\n",
       "      <td>0.86</td>\n",
       "      <td>18</td>\n",
       "    </tr>\n",
       "    <tr>\n",
       "      <th>8</th>\n",
       "      <td>GaussianNB</td>\n",
       "      <td>88.63</td>\n",
       "      <td>0.52</td>\n",
       "      <td>130</td>\n",
       "    </tr>\n",
       "  </tbody>\n",
       "</table>\n",
       "</div>"
      ],
      "text/plain": [
       "                   Model_Name  Accuracy  Precision_Score  Confusion_Matrix_FP\n",
       "2     SupportVectorClassifier     97.68             1.00                    0\n",
       "4        KNeighborsClassifier     92.50             1.00                    0\n",
       "0      RandomForestClassifier     97.68             0.98                    2\n",
       "5          LogisticRegression     98.69             0.98                    3\n",
       "6                 BernoulliNB     98.07             0.95                    6\n",
       "3  GradientBoostingClassifier     96.44             0.92                    9\n",
       "7               MultinomialNB     98.14             0.90                   18\n",
       "1      DecisionTreeClassifier     96.21             0.86                   18\n",
       "8                  GaussianNB     88.63             0.52                  130"
      ]
     },
     "execution_count": 116,
     "metadata": {},
     "output_type": "execute_result"
    }
   ],
   "source": [
    "scores.sort_values(by=['Precision_Score'], ascendibng=False)"
   ]
  },
  {
   "cell_type": "markdown",
   "id": "c13a13ba",
   "metadata": {},
   "source": [
    "##### 1. Since the label is imbalanced we have to focus on precision score.\n",
    "##### 2. SupportVectorClassifier has the highest precision score with high Accuracy hence selecting SupportVectorClassifier for further Hyper Parameter Tuning."
   ]
  },
  {
   "cell_type": "markdown",
   "id": "46a961aa",
   "metadata": {},
   "source": [
    "# Hyper Parameter Tuning"
   ]
  },
  {
   "cell_type": "code",
   "execution_count": 117,
   "id": "76038db7",
   "metadata": {},
   "outputs": [],
   "source": [
    "grid_param = {                                      # creating grid for hyper parameters\n",
    "    'kernel': ['linear', 'rbf', 'sigmoid'],\n",
    "    'gamma': ['scale', 'auto'],\n",
    "    'C': range(1,20),\n",
    "    'decision_function_shape': ['ovo', 'ovr']\n",
    "}"
   ]
  },
  {
   "cell_type": "code",
   "execution_count": 118,
   "id": "1a814baa",
   "metadata": {},
   "outputs": [],
   "source": [
    "grid_search = GridSearchCV(estimator=svc,          # assigning SVC model to search grid CV\n",
    "                          param_grid=grid_param,\n",
    "                          cv=3,\n",
    "                          n_jobs =-1)"
   ]
  },
  {
   "cell_type": "code",
   "execution_count": 119,
   "id": "4ec97608",
   "metadata": {},
   "outputs": [
    {
     "data": {
      "text/plain": [
       "GridSearchCV(cv=3, estimator=SVC(), n_jobs=-1,\n",
       "             param_grid={'C': range(1, 20),\n",
       "                         'decision_function_shape': ['ovo', 'ovr'],\n",
       "                         'gamma': ['scale', 'auto'],\n",
       "                         'kernel': ['linear', 'rbf', 'sigmoid']})"
      ]
     },
     "execution_count": 119,
     "metadata": {},
     "output_type": "execute_result"
    }
   ],
   "source": [
    "grid_search.fit(x_train,y_train)  # searching best parameters"
   ]
  },
  {
   "cell_type": "code",
   "execution_count": 120,
   "id": "632a2a0b",
   "metadata": {},
   "outputs": [
    {
     "name": "stdout",
     "output_type": "stream",
     "text": [
      "{'C': 1, 'decision_function_shape': 'ovo', 'gamma': 'scale', 'kernel': 'linear'}\n"
     ]
    }
   ],
   "source": [
    "best_parameters = grid_search.best_params_\n",
    "print(best_parameters)"
   ]
  },
  {
   "cell_type": "code",
   "execution_count": 127,
   "id": "6fe7394c",
   "metadata": {},
   "outputs": [
    {
     "name": "stdout",
     "output_type": "stream",
     "text": [
      "\n",
      "===============Train Result===============\n",
      "Accuracy Score: 99.46%\n",
      "\n",
      "===============Test Result===============\n",
      "Accuracy Score: 97.68%\n",
      "\n",
      " \n",
      " Test Classification Report \n",
      "               precision    recall  f1-score   support\n",
      "\n",
      "           0       0.97      1.00      0.99      1152\n",
      "           1       1.00      0.79      0.88       141\n",
      "\n",
      "    accuracy                           0.98      1293\n",
      "   macro avg       0.99      0.89      0.93      1293\n",
      "weighted avg       0.98      0.98      0.98      1293\n",
      "\n",
      "\n",
      "=========================================\n",
      "\n",
      "confusion Matrix- \n",
      " [[1152    0]\n",
      " [  30  111]]\n",
      "\n",
      "=========================================\n"
     ]
    }
   ],
   "source": [
    "svc = SVC(C= 1, decision_function_shape= 'ovo', gamma= 'scale', kernel= 'rbf')  # applying best parameters \n",
    "svc.fit(x_train,y_train)\n",
    "\n",
    "print_score(svc,x_train,x_test,y_train,y_test, train=True)\n",
    "print_score(svc,x_train,x_test,y_train,y_test, train=False)"
   ]
  },
  {
   "cell_type": "markdown",
   "id": "d55603c1",
   "metadata": {},
   "source": [
    "# ROC AUC Curve"
   ]
  },
  {
   "cell_type": "code",
   "execution_count": 122,
   "id": "e94821dc",
   "metadata": {},
   "outputs": [
    {
     "data": {
      "image/png": "[encoded data removed]",
      "text/plain": [
       "<Figure size 432x288 with 1 Axes>"
      ]
     },
     "metadata": {
      "needs_background": "light"
     },
     "output_type": "display_data"
    }
   ],
   "source": [
    "from sklearn.metrics import plot_roc_curve\n",
    "plot_roc_curve(svc,x_test,y_test)\n",
    "plt.title(\"ROC AUC Curve\")\n",
    "plt.show()"
   ]
  },
  {
   "cell_type": "markdown",
   "id": "84a09d05",
   "metadata": {},
   "source": [
    "AUC Score is 99% which is pretty good "
   ]
  },
  {
   "cell_type": "markdown",
   "id": "60c4d1a8",
   "metadata": {},
   "source": [
    "# Saving Model"
   ]
  },
  {
   "cell_type": "code",
   "execution_count": 128,
   "id": "8512dac3",
   "metadata": {},
   "outputs": [],
   "source": [
    "file = 'Email_Spam_Classifier.pickle'\n",
    "pickle.dump(svc, open(file, 'wb'))"
   ]
  },
  {
   "cell_type": "code",
   "execution_count": null,
   "id": "867b457a",
   "metadata": {},
   "outputs": [],
   "source": []
  }
 ],
 "metadata": {
  "kernelspec": {
   "display_name": "Python 3 (ipykernel)",
   "language": "python",
   "name": "python3"
  },
  "language_info": {
   "codemirror_mode": {
    "name": "ipython",
    "version": 3
   },
   "file_extension": ".py",
   "mimetype": "text/x-python",
   "name": "python",
   "nbconvert_exporter": "python",
   "pygments_lexer": "ipython3",
   "version": "3.9.7"
  }
 },
 "nbformat": 4,
 "nbformat_minor": 5
}
